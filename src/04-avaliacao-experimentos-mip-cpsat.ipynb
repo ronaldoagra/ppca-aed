{
 "cells": [
  {
   "cell_type": "code",
   "execution_count": 17,
   "outputs": [],
   "source": [
    "import csv\n",
    "import os\n",
    "from pathlib import Path\n",
    "import re"
   ],
   "metadata": {
    "collapsed": false,
    "pycharm": {
     "name": "#%%\n"
    }
   }
  },
  {
   "cell_type": "code",
   "execution_count": 18,
   "outputs": [
    {
     "name": "stdout",
     "output_type": "stream",
     "text": [
      "CPSAT - 10 : C:\\Users\\ronal\\PycharmProjects\\ppca-aed\\data\\output\\resultado-CPSAT-req-10.csv\n",
      "{'Sprint 1': {'valor': 32.0, 'capacidade': 86.0}, 'Sprint 2': {'valor': 92.0, 'capacidade': 177.0}}\n",
      "CPSAT - 100 : C:\\Users\\ronal\\PycharmProjects\\ppca-aed\\data\\output\\resultado-CPSAT-req-100.csv\n",
      "{'Sprint 1': {'valor': 23.0, 'capacidade': 73.0}, 'Sprint 2': {'valor': 46.0, 'capacidade': 173.0}, 'Sprint 3': {'valor': 59.0, 'capacidade': 177.0}, 'Sprint 4': {'valor': 71.0, 'capacidade': 166.0}, 'Sprint 5': {'valor': 43.0, 'capacidade': 179.0}, 'Sprint 6': {'valor': 62.0, 'capacidade': 180.0}, 'Sprint 7': {'valor': 73.0, 'capacidade': 179.0}, 'Sprint 8': {'valor': 56.0, 'capacidade': 180.0}, 'Sprint 9': {'valor': 28.0, 'capacidade': 175.0}, 'Sprint 10': {'valor': 78.0, 'capacidade': 173.0}, 'Sprint 11': {'valor': 78.0, 'capacidade': 173.0}, 'Sprint 12': {'valor': 102.0, 'capacidade': 179.0}, 'Sprint 13': {'valor': 107.0, 'capacidade': 179.0}, 'Sprint 14': {'valor': 57.0, 'capacidade': 176.0}, 'Sprint 15': {'valor': 76.0, 'capacidade': 180.0}}\n",
      "CPSAT - 200 : C:\\Users\\ronal\\PycharmProjects\\ppca-aed\\data\\output\\resultado-CPSAT-req-200.csv\n",
      "{'Sprint 1': {'valor': 39.0, 'capacidade': 98.0}, 'Sprint 2': {'valor': 69.0, 'capacidade': 171.0}, 'Sprint 3': {'valor': 107.0, 'capacidade': 179.0}, 'Sprint 4': {'valor': 74.0, 'capacidade': 171.0}, 'Sprint 5': {'valor': 57.0, 'capacidade': 180.0}, 'Sprint 6': {'valor': 68.0, 'capacidade': 180.0}, 'Sprint 7': {'valor': 63.0, 'capacidade': 176.0}, 'Sprint 8': {'valor': 62.0, 'capacidade': 177.0}, 'Sprint 9': {'valor': 62.0, 'capacidade': 180.0}, 'Sprint 10': {'valor': 68.0, 'capacidade': 177.0}, 'Sprint 11': {'valor': 74.0, 'capacidade': 172.0}, 'Sprint 12': {'valor': 71.0, 'capacidade': 179.0}, 'Sprint 13': {'valor': 56.0, 'capacidade': 172.0}, 'Sprint 14': {'valor': 72.0, 'capacidade': 180.0}, 'Sprint 15': {'valor': 89.0, 'capacidade': 174.0}, 'Sprint 16': {'valor': 31.0, 'capacidade': 180.0}, 'Sprint 17': {'valor': 42.0, 'capacidade': 180.0}, 'Sprint 18': {'valor': 93.0, 'capacidade': 180.0}, 'Sprint 19': {'valor': 70.0, 'capacidade': 180.0}, 'Sprint 20': {'valor': 58.0, 'capacidade': 179.0}, 'Sprint 21': {'valor': 71.0, 'capacidade': 174.0}, 'Sprint 22': {'valor': 69.0, 'capacidade': 179.0}, 'Sprint 23': {'valor': 46.0, 'capacidade': 175.0}, 'Sprint 24': {'valor': 106.0, 'capacidade': 179.0}, 'Sprint 25': {'valor': 76.0, 'capacidade': 177.0}, 'Sprint 26': {'valor': 68.0, 'capacidade': 178.0}, 'Sprint 27': {'valor': 54.0, 'capacidade': 180.0}, 'Sprint 28': {'valor': 75.0, 'capacidade': 178.0}}\n",
      "CPSAT - 30 : C:\\Users\\ronal\\PycharmProjects\\ppca-aed\\data\\output\\resultado-CPSAT-req-30.csv\n",
      "{'Sprint 1': {'valor': 39.0, 'capacidade': 110.0}, 'Sprint 2': {'valor': 85.0, 'capacidade': 179.0}, 'Sprint 3': {'valor': 86.0, 'capacidade': 176.0}, 'Sprint 4': {'valor': 87.0, 'capacidade': 178.0}}\n",
      "CPSAT - 300 : C:\\Users\\ronal\\PycharmProjects\\ppca-aed\\data\\output\\resultado-CPSAT-req-300.csv\n",
      "{'Sprint 1': {'valor': 45.0, 'capacidade': 177.0}, 'Sprint 2': {'valor': 90.0, 'capacidade': 179.0}, 'Sprint 3': {'valor': 76.0, 'capacidade': 174.0}, 'Sprint 4': {'valor': 64.0, 'capacidade': 179.0}, 'Sprint 5': {'valor': 62.0, 'capacidade': 180.0}, 'Sprint 6': {'valor': 72.0, 'capacidade': 173.0}, 'Sprint 7': {'valor': 88.0, 'capacidade': 179.0}, 'Sprint 8': {'valor': 68.0, 'capacidade': 180.0}, 'Sprint 9': {'valor': 77.0, 'capacidade': 178.0}, 'Sprint 10': {'valor': 83.0, 'capacidade': 179.0}, 'Sprint 11': {'valor': 64.0, 'capacidade': 180.0}, 'Sprint 12': {'valor': 57.0, 'capacidade': 180.0}, 'Sprint 13': {'valor': 79.0, 'capacidade': 180.0}, 'Sprint 14': {'valor': 58.0, 'capacidade': 179.0}, 'Sprint 15': {'valor': 60.0, 'capacidade': 176.0}, 'Sprint 16': {'valor': 44.0, 'capacidade': 180.0}, 'Sprint 17': {'valor': 75.0, 'capacidade': 178.0}, 'Sprint 18': {'valor': 61.0, 'capacidade': 178.0}, 'Sprint 19': {'valor': 68.0, 'capacidade': 177.0}, 'Sprint 20': {'valor': 88.0, 'capacidade': 180.0}, 'Sprint 21': {'valor': 79.0, 'capacidade': 179.0}, 'Sprint 22': {'valor': 58.0, 'capacidade': 170.0}, 'Sprint 23': {'valor': 49.0, 'capacidade': 174.0}, 'Sprint 24': {'valor': 64.0, 'capacidade': 178.0}, 'Sprint 25': {'valor': 120.0, 'capacidade': 179.0}, 'Sprint 26': {'valor': 59.0, 'capacidade': 177.0}, 'Sprint 27': {'valor': 81.0, 'capacidade': 179.0}, 'Sprint 28': {'valor': 59.0, 'capacidade': 178.0}, 'Sprint 29': {'valor': 69.0, 'capacidade': 180.0}, 'Sprint 30': {'valor': 78.0, 'capacidade': 180.0}, 'Sprint 31': {'valor': 52.0, 'capacidade': 177.0}, 'Sprint 32': {'valor': 57.0, 'capacidade': 174.0}, 'Sprint 33': {'valor': 79.0, 'capacidade': 177.0}, 'Sprint 34': {'valor': 92.0, 'capacidade': 179.0}, 'Sprint 35': {'valor': 80.0, 'capacidade': 177.0}, 'Sprint 36': {'valor': 73.0, 'capacidade': 179.0}, 'Sprint 37': {'valor': 72.0, 'capacidade': 180.0}, 'Sprint 38': {'valor': 77.0, 'capacidade': 178.0}, 'Sprint 39': {'valor': 109.0, 'capacidade': 180.0}, 'Sprint 40': {'valor': 87.0, 'capacidade': 180.0}}\n",
      "CPSAT - 400 : C:\\Users\\ronal\\PycharmProjects\\ppca-aed\\data\\output\\resultado-CPSAT-req-400.csv\n",
      "{'Sprint 1': {'valor': 73.0, 'capacidade': 152.0}, 'Sprint 2': {'valor': 43.0, 'capacidade': 178.0}, 'Sprint 3': {'valor': 71.0, 'capacidade': 179.0}, 'Sprint 4': {'valor': 87.0, 'capacidade': 178.0}, 'Sprint 5': {'valor': 67.0, 'capacidade': 180.0}, 'Sprint 6': {'valor': 44.0, 'capacidade': 180.0}, 'Sprint 7': {'valor': 89.0, 'capacidade': 178.0}, 'Sprint 8': {'valor': 36.0, 'capacidade': 172.0}, 'Sprint 9': {'valor': 81.0, 'capacidade': 180.0}, 'Sprint 10': {'valor': 43.0, 'capacidade': 172.0}, 'Sprint 11': {'valor': 54.0, 'capacidade': 174.0}, 'Sprint 12': {'valor': 48.0, 'capacidade': 179.0}, 'Sprint 13': {'valor': 84.0, 'capacidade': 176.0}, 'Sprint 14': {'valor': 63.0, 'capacidade': 175.0}, 'Sprint 15': {'valor': 94.0, 'capacidade': 178.0}, 'Sprint 16': {'valor': 66.0, 'capacidade': 179.0}, 'Sprint 17': {'valor': 61.0, 'capacidade': 173.0}, 'Sprint 18': {'valor': 54.0, 'capacidade': 179.0}, 'Sprint 19': {'valor': 83.0, 'capacidade': 180.0}, 'Sprint 20': {'valor': 75.0, 'capacidade': 179.0}, 'Sprint 21': {'valor': 58.0, 'capacidade': 177.0}, 'Sprint 22': {'valor': 52.0, 'capacidade': 179.0}, 'Sprint 23': {'valor': 91.0, 'capacidade': 173.0}, 'Sprint 24': {'valor': 68.0, 'capacidade': 179.0}, 'Sprint 25': {'valor': 68.0, 'capacidade': 179.0}, 'Sprint 26': {'valor': 83.0, 'capacidade': 174.0}, 'Sprint 27': {'valor': 40.0, 'capacidade': 180.0}, 'Sprint 28': {'valor': 58.0, 'capacidade': 174.0}, 'Sprint 29': {'valor': 72.0, 'capacidade': 178.0}, 'Sprint 30': {'valor': 74.0, 'capacidade': 179.0}, 'Sprint 31': {'valor': 57.0, 'capacidade': 176.0}, 'Sprint 32': {'valor': 97.0, 'capacidade': 180.0}, 'Sprint 33': {'valor': 94.0, 'capacidade': 179.0}, 'Sprint 34': {'valor': 77.0, 'capacidade': 174.0}, 'Sprint 35': {'valor': 57.0, 'capacidade': 173.0}, 'Sprint 36': {'valor': 70.0, 'capacidade': 179.0}, 'Sprint 37': {'valor': 45.0, 'capacidade': 180.0}, 'Sprint 38': {'valor': 47.0, 'capacidade': 180.0}, 'Sprint 39': {'valor': 63.0, 'capacidade': 176.0}, 'Sprint 40': {'valor': 67.0, 'capacidade': 179.0}, 'Sprint 41': {'valor': 45.0, 'capacidade': 174.0}, 'Sprint 42': {'valor': 62.0, 'capacidade': 176.0}, 'Sprint 43': {'valor': 73.0, 'capacidade': 180.0}, 'Sprint 44': {'valor': 92.0, 'capacidade': 180.0}, 'Sprint 45': {'valor': 78.0, 'capacidade': 179.0}, 'Sprint 46': {'valor': 70.0, 'capacidade': 176.0}, 'Sprint 47': {'valor': 67.0, 'capacidade': 176.0}, 'Sprint 48': {'valor': 92.0, 'capacidade': 178.0}, 'Sprint 49': {'valor': 103.0, 'capacidade': 176.0}, 'Sprint 50': {'valor': 77.0, 'capacidade': 180.0}, 'Sprint 51': {'valor': 59.0, 'capacidade': 180.0}, 'Sprint 52': {'valor': 49.0, 'capacidade': 179.0}, 'Sprint 53': {'valor': 80.0, 'capacidade': 176.0}, 'Sprint 54': {'valor': 79.0, 'capacidade': 180.0}, 'Sprint 55': {'valor': 67.0, 'capacidade': 180.0}}\n",
      "CPSAT - 50 : C:\\Users\\ronal\\PycharmProjects\\ppca-aed\\data\\output\\resultado-CPSAT-req-50.csv\n",
      "{'Sprint 1': {'valor': 55.0, 'capacidade': 117.0}, 'Sprint 2': {'valor': 68.0, 'capacidade': 131.0}, 'Sprint 3': {'valor': 71.0, 'capacidade': 175.0}, 'Sprint 4': {'valor': 70.0, 'capacidade': 171.0}, 'Sprint 5': {'valor': 86.0, 'capacidade': 178.0}, 'Sprint 6': {'valor': 42.0, 'capacidade': 171.0}, 'Sprint 7': {'valor': 70.0, 'capacidade': 177.0}, 'Sprint 8': {'valor': 75.0, 'capacidade': 179.0}}\n",
      "CPSAT - 500 : C:\\Users\\ronal\\PycharmProjects\\ppca-aed\\data\\output\\resultado-CPSAT-req-500.csv\n",
      "{'Sprint 1': {'valor': 99.0, 'capacidade': 180.0}, 'Sprint 2': {'valor': 90.0, 'capacidade': 177.0}, 'Sprint 3': {'valor': 86.0, 'capacidade': 179.0}, 'Sprint 4': {'valor': 87.0, 'capacidade': 177.0}, 'Sprint 5': {'valor': 71.0, 'capacidade': 179.0}, 'Sprint 6': {'valor': 105.0, 'capacidade': 178.0}, 'Sprint 7': {'valor': 41.0, 'capacidade': 180.0}, 'Sprint 8': {'valor': 78.0, 'capacidade': 180.0}, 'Sprint 9': {'valor': 73.0, 'capacidade': 180.0}, 'Sprint 10': {'valor': 59.0, 'capacidade': 179.0}, 'Sprint 11': {'valor': 67.0, 'capacidade': 179.0}, 'Sprint 12': {'valor': 53.0, 'capacidade': 178.0}, 'Sprint 13': {'valor': 57.0, 'capacidade': 176.0}, 'Sprint 14': {'valor': 53.0, 'capacidade': 180.0}, 'Sprint 15': {'valor': 73.0, 'capacidade': 180.0}, 'Sprint 16': {'valor': 76.0, 'capacidade': 180.0}, 'Sprint 17': {'valor': 61.0, 'capacidade': 179.0}, 'Sprint 18': {'valor': 91.0, 'capacidade': 179.0}, 'Sprint 19': {'valor': 90.0, 'capacidade': 180.0}, 'Sprint 20': {'valor': 70.0, 'capacidade': 180.0}, 'Sprint 21': {'valor': 82.0, 'capacidade': 180.0}, 'Sprint 22': {'valor': 49.0, 'capacidade': 179.0}, 'Sprint 23': {'valor': 101.0, 'capacidade': 180.0}, 'Sprint 24': {'valor': 68.0, 'capacidade': 176.0}, 'Sprint 25': {'valor': 80.0, 'capacidade': 180.0}, 'Sprint 26': {'valor': 92.0, 'capacidade': 175.0}, 'Sprint 27': {'valor': 59.0, 'capacidade': 179.0}, 'Sprint 28': {'valor': 81.0, 'capacidade': 180.0}, 'Sprint 29': {'valor': 89.0, 'capacidade': 180.0}, 'Sprint 30': {'valor': 66.0, 'capacidade': 180.0}, 'Sprint 31': {'valor': 45.0, 'capacidade': 180.0}, 'Sprint 32': {'valor': 51.0, 'capacidade': 180.0}, 'Sprint 33': {'valor': 115.0, 'capacidade': 180.0}, 'Sprint 34': {'valor': 67.0, 'capacidade': 177.0}, 'Sprint 35': {'valor': 96.0, 'capacidade': 180.0}, 'Sprint 36': {'valor': 82.0, 'capacidade': 177.0}, 'Sprint 37': {'valor': 100.0, 'capacidade': 175.0}, 'Sprint 38': {'valor': 49.0, 'capacidade': 179.0}, 'Sprint 39': {'valor': 80.0, 'capacidade': 178.0}, 'Sprint 40': {'valor': 66.0, 'capacidade': 179.0}, 'Sprint 41': {'valor': 102.0, 'capacidade': 180.0}, 'Sprint 42': {'valor': 66.0, 'capacidade': 180.0}, 'Sprint 43': {'valor': 96.0, 'capacidade': 179.0}, 'Sprint 44': {'valor': 81.0, 'capacidade': 178.0}, 'Sprint 45': {'valor': 81.0, 'capacidade': 178.0}, 'Sprint 46': {'valor': 61.0, 'capacidade': 178.0}, 'Sprint 47': {'valor': 84.0, 'capacidade': 178.0}, 'Sprint 48': {'valor': 104.0, 'capacidade': 180.0}, 'Sprint 49': {'valor': 68.0, 'capacidade': 175.0}, 'Sprint 50': {'valor': 101.0, 'capacidade': 180.0}, 'Sprint 51': {'valor': 56.0, 'capacidade': 180.0}, 'Sprint 52': {'valor': 92.0, 'capacidade': 180.0}, 'Sprint 53': {'valor': 83.0, 'capacidade': 180.0}, 'Sprint 54': {'valor': 75.0, 'capacidade': 179.0}, 'Sprint 55': {'valor': 55.0, 'capacidade': 180.0}, 'Sprint 56': {'valor': 86.0, 'capacidade': 180.0}, 'Sprint 57': {'valor': 69.0, 'capacidade': 179.0}, 'Sprint 58': {'valor': 63.0, 'capacidade': 179.0}, 'Sprint 59': {'valor': 70.0, 'capacidade': 180.0}, 'Sprint 60': {'valor': 56.0, 'capacidade': 180.0}, 'Sprint 61': {'valor': 57.0, 'capacidade': 180.0}, 'Sprint 62': {'valor': 79.0, 'capacidade': 180.0}, 'Sprint 63': {'valor': 105.0, 'capacidade': 180.0}, 'Sprint 64': {'valor': 63.0, 'capacidade': 180.0}, 'Sprint 65': {'valor': 85.0, 'capacidade': 180.0}, 'Sprint 66': {'valor': 81.0, 'capacidade': 178.0}, 'Sprint 67': {'valor': 37.0, 'capacidade': 180.0}, 'Sprint 68': {'valor': 63.0, 'capacidade': 180.0}}\n",
      "CPSAT - 70 : C:\\Users\\ronal\\PycharmProjects\\ppca-aed\\data\\output\\resultado-CPSAT-req-70.csv\n",
      "{'Sprint 1': {'valor': 74.0, 'capacidade': 172.0}, 'Sprint 2': {'valor': 78.0, 'capacidade': 172.0}, 'Sprint 3': {'valor': 60.0, 'capacidade': 173.0}, 'Sprint 4': {'valor': 87.0, 'capacidade': 176.0}, 'Sprint 5': {'valor': 93.0, 'capacidade': 177.0}, 'Sprint 6': {'valor': 67.0, 'capacidade': 175.0}, 'Sprint 7': {'valor': 78.0, 'capacidade': 177.0}, 'Sprint 8': {'valor': 60.0, 'capacidade': 179.0}, 'Sprint 9': {'valor': 57.0, 'capacidade': 176.0}}\n",
      "MIP - 10 : C:\\Users\\ronal\\PycharmProjects\\ppca-aed\\data\\output\\resultado-MIP-req-10.csv\n",
      "{'Sprint 1': {'valor': 91.0, 'capacidade': 179.0}, 'Sprint 2': {'valor': 33.0, 'capacidade': 84.0}}\n",
      "MIP - 100 : C:\\Users\\ronal\\PycharmProjects\\ppca-aed\\data\\output\\resultado-MIP-req-100.csv\n",
      "{'Sprint 1': {'valor': 56.0, 'capacidade': 180.0}, 'Sprint 2': {'valor': 46.0, 'capacidade': 180.0}, 'Sprint 3': {'valor': 68.0, 'capacidade': 179.0}, 'Sprint 4': {'valor': 72.0, 'capacidade': 178.0}, 'Sprint 5': {'valor': 64.0, 'capacidade': 180.0}, 'Sprint 6': {'valor': 48.0, 'capacidade': 176.0}, 'Sprint 7': {'valor': 76.0, 'capacidade': 175.0}, 'Sprint 8': {'valor': 53.0, 'capacidade': 176.0}, 'Sprint 9': {'valor': 46.0, 'capacidade': 172.0}, 'Sprint 10': {'valor': 72.0, 'capacidade': 178.0}, 'Sprint 11': {'valor': 84.0, 'capacidade': 180.0}, 'Sprint 12': {'valor': 111.0, 'capacidade': 180.0}, 'Sprint 13': {'valor': 59.0, 'capacidade': 170.0}, 'Sprint 14': {'valor': 78.0, 'capacidade': 176.0}, 'Sprint 15': {'valor': 26.0, 'capacidade': 62.0}}\n",
      "MIP - 200 : C:\\Users\\ronal\\PycharmProjects\\ppca-aed\\data\\output\\resultado-MIP-req-200.csv\n",
      "{'Sprint 1': {'valor': 77.0, 'capacidade': 180.0}, 'Sprint 2': {'valor': 83.0, 'capacidade': 180.0}, 'Sprint 3': {'valor': 88.0, 'capacidade': 178.0}, 'Sprint 4': {'valor': 74.0, 'capacidade': 179.0}, 'Sprint 5': {'valor': 70.0, 'capacidade': 177.0}, 'Sprint 6': {'valor': 65.0, 'capacidade': 176.0}, 'Sprint 7': {'valor': 68.0, 'capacidade': 173.0}, 'Sprint 8': {'valor': 76.0, 'capacidade': 180.0}, 'Sprint 9': {'valor': 55.0, 'capacidade': 180.0}, 'Sprint 10': {'valor': 64.0, 'capacidade': 179.0}, 'Sprint 11': {'valor': 84.0, 'capacidade': 178.0}, 'Sprint 12': {'valor': 45.0, 'capacidade': 176.0}, 'Sprint 13': {'valor': 85.0, 'capacidade': 180.0}, 'Sprint 14': {'valor': 68.0, 'capacidade': 179.0}, 'Sprint 15': {'valor': 56.0, 'capacidade': 180.0}, 'Sprint 16': {'valor': 40.0, 'capacidade': 179.0}, 'Sprint 17': {'valor': 66.0, 'capacidade': 180.0}, 'Sprint 18': {'valor': 91.0, 'capacidade': 175.0}, 'Sprint 19': {'valor': 78.0, 'capacidade': 180.0}, 'Sprint 20': {'valor': 53.0, 'capacidade': 177.0}, 'Sprint 21': {'valor': 72.0, 'capacidade': 179.0}, 'Sprint 22': {'valor': 42.0, 'capacidade': 180.0}, 'Sprint 23': {'valor': 81.0, 'capacidade': 180.0}, 'Sprint 24': {'valor': 84.0, 'capacidade': 174.0}, 'Sprint 25': {'valor': 83.0, 'capacidade': 174.0}, 'Sprint 26': {'valor': 57.0, 'capacidade': 170.0}, 'Sprint 27': {'valor': 51.0, 'capacidade': 172.0}, 'Sprint 28': {'valor': 34.0, 'capacidade': 90.0}}\n",
      "MIP - 30 : C:\\Users\\ronal\\PycharmProjects\\ppca-aed\\data\\output\\resultado-MIP-req-30.csv\n",
      "{'Sprint 1': {'valor': 70.0, 'capacidade': 180.0}, 'Sprint 2': {'valor': 84.0, 'capacidade': 173.0}, 'Sprint 3': {'valor': 88.0, 'capacidade': 175.0}, 'Sprint 4': {'valor': 55.0, 'capacidade': 115.0}}\n",
      "MIP - 300 : C:\\Users\\ronal\\PycharmProjects\\ppca-aed\\data\\output\\resultado-MIP-req-300.csv\n",
      "{'Sprint 1': {'valor': 46.0, 'capacidade': 177.0}, 'Sprint 2': {'valor': 55.0, 'capacidade': 179.0}, 'Sprint 3': {'valor': 62.0, 'capacidade': 174.0}, 'Sprint 4': {'valor': 89.0, 'capacidade': 180.0}, 'Sprint 5': {'valor': 76.0, 'capacidade': 180.0}, 'Sprint 6': {'valor': 59.0, 'capacidade': 176.0}, 'Sprint 7': {'valor': 74.0, 'capacidade': 178.0}, 'Sprint 8': {'valor': 91.0, 'capacidade': 180.0}, 'Sprint 9': {'valor': 59.0, 'capacidade': 176.0}, 'Sprint 10': {'valor': 88.0, 'capacidade': 178.0}, 'Sprint 11': {'valor': 45.0, 'capacidade': 178.0}, 'Sprint 12': {'valor': 80.0, 'capacidade': 179.0}, 'Sprint 13': {'valor': 69.0, 'capacidade': 179.0}, 'Sprint 14': {'valor': 57.0, 'capacidade': 179.0}, 'Sprint 15': {'valor': 164.0, 'capacidade': 180.0}, 'Sprint 16': {'valor': 71.0, 'capacidade': 180.0}, 'Sprint 17': {'valor': 80.0, 'capacidade': 180.0}, 'Sprint 18': {'valor': 37.0, 'capacidade': 175.0}, 'Sprint 19': {'valor': 96.0, 'capacidade': 180.0}, 'Sprint 20': {'valor': 89.0, 'capacidade': 179.0}, 'Sprint 21': {'valor': 76.0, 'capacidade': 180.0}, 'Sprint 22': {'valor': 67.0, 'capacidade': 180.0}, 'Sprint 23': {'valor': 76.0, 'capacidade': 179.0}, 'Sprint 24': {'valor': 86.0, 'capacidade': 179.0}, 'Sprint 25': {'valor': 37.0, 'capacidade': 179.0}, 'Sprint 26': {'valor': 111.0, 'capacidade': 177.0}, 'Sprint 27': {'valor': 55.0, 'capacidade': 180.0}, 'Sprint 28': {'valor': 92.0, 'capacidade': 180.0}, 'Sprint 29': {'valor': 63.0, 'capacidade': 178.0}, 'Sprint 30': {'valor': 75.0, 'capacidade': 180.0}, 'Sprint 31': {'valor': 75.0, 'capacidade': 176.0}, 'Sprint 32': {'valor': 69.0, 'capacidade': 179.0}, 'Sprint 33': {'valor': 42.0, 'capacidade': 174.0}, 'Sprint 34': {'valor': 60.0, 'capacidade': 177.0}, 'Sprint 35': {'valor': 78.0, 'capacidade': 179.0}, 'Sprint 36': {'valor': 84.0, 'capacidade': 175.0}, 'Sprint 37': {'valor': 60.0, 'capacidade': 173.0}, 'Sprint 38': {'valor': 38.0, 'capacidade': 172.0}, 'Sprint 39': {'valor': 85.0, 'capacidade': 179.0}, 'Sprint 40': {'valor': 57.0, 'capacidade': 178.0}}\n",
      "MIP - 400 : C:\\Users\\ronal\\PycharmProjects\\ppca-aed\\data\\output\\resultado-MIP-req-400.csv\n",
      "{'Sprint 1': {'valor': 61.0, 'capacidade': 177.0}, 'Sprint 2': {'valor': 73.0, 'capacidade': 180.0}, 'Sprint 3': {'valor': 87.0, 'capacidade': 173.0}, 'Sprint 4': {'valor': 93.0, 'capacidade': 179.0}, 'Sprint 5': {'valor': 65.0, 'capacidade': 178.0}, 'Sprint 6': {'valor': 64.0, 'capacidade': 174.0}, 'Sprint 7': {'valor': 64.0, 'capacidade': 179.0}, 'Sprint 8': {'valor': 45.0, 'capacidade': 171.0}, 'Sprint 9': {'valor': 59.0, 'capacidade': 178.0}, 'Sprint 10': {'valor': 36.0, 'capacidade': 177.0}, 'Sprint 11': {'valor': 74.0, 'capacidade': 176.0}, 'Sprint 12': {'valor': 65.0, 'capacidade': 180.0}, 'Sprint 13': {'valor': 67.0, 'capacidade': 180.0}, 'Sprint 14': {'valor': 64.0, 'capacidade': 180.0}, 'Sprint 15': {'valor': 132.0, 'capacidade': 173.0}, 'Sprint 16': {'valor': 79.0, 'capacidade': 175.0}, 'Sprint 17': {'valor': 90.0, 'capacidade': 177.0}, 'Sprint 18': {'valor': 48.0, 'capacidade': 177.0}, 'Sprint 19': {'valor': 64.0, 'capacidade': 175.0}, 'Sprint 20': {'valor': 47.0, 'capacidade': 177.0}, 'Sprint 21': {'valor': 61.0, 'capacidade': 179.0}, 'Sprint 22': {'valor': 43.0, 'capacidade': 176.0}, 'Sprint 23': {'valor': 63.0, 'capacidade': 180.0}, 'Sprint 24': {'valor': 64.0, 'capacidade': 180.0}, 'Sprint 25': {'valor': 76.0, 'capacidade': 177.0}, 'Sprint 26': {'valor': 72.0, 'capacidade': 180.0}, 'Sprint 27': {'valor': 71.0, 'capacidade': 179.0}, 'Sprint 28': {'valor': 91.0, 'capacidade': 179.0}, 'Sprint 29': {'valor': 77.0, 'capacidade': 174.0}, 'Sprint 30': {'valor': 56.0, 'capacidade': 176.0}, 'Sprint 31': {'valor': 62.0, 'capacidade': 175.0}, 'Sprint 32': {'valor': 72.0, 'capacidade': 179.0}, 'Sprint 33': {'valor': 58.0, 'capacidade': 180.0}, 'Sprint 34': {'valor': 53.0, 'capacidade': 175.0}, 'Sprint 35': {'valor': 74.0, 'capacidade': 180.0}, 'Sprint 36': {'valor': 61.0, 'capacidade': 174.0}, 'Sprint 37': {'valor': 67.0, 'capacidade': 178.0}, 'Sprint 38': {'valor': 66.0, 'capacidade': 177.0}, 'Sprint 39': {'valor': 64.0, 'capacidade': 179.0}, 'Sprint 40': {'valor': 89.0, 'capacidade': 178.0}, 'Sprint 41': {'valor': 88.0, 'capacidade': 177.0}, 'Sprint 42': {'valor': 60.0, 'capacidade': 179.0}, 'Sprint 43': {'valor': 104.0, 'capacidade': 177.0}, 'Sprint 44': {'valor': 47.0, 'capacidade': 176.0}, 'Sprint 45': {'valor': 69.0, 'capacidade': 178.0}, 'Sprint 46': {'valor': 60.0, 'capacidade': 178.0}, 'Sprint 47': {'valor': 71.0, 'capacidade': 174.0}, 'Sprint 48': {'valor': 46.0, 'capacidade': 176.0}, 'Sprint 49': {'valor': 38.0, 'capacidade': 180.0}, 'Sprint 50': {'valor': 67.0, 'capacidade': 177.0}, 'Sprint 51': {'valor': 108.0, 'capacidade': 176.0}, 'Sprint 52': {'valor': 72.0, 'capacidade': 174.0}, 'Sprint 53': {'valor': 49.0, 'capacidade': 175.0}, 'Sprint 54': {'valor': 79.0, 'capacidade': 173.0}, 'Sprint 55': {'valor': 72.0, 'capacidade': 178.0}}\n",
      "MIP - 50 : C:\\Users\\ronal\\PycharmProjects\\ppca-aed\\data\\output\\resultado-MIP-req-50.csv\n",
      "{'Sprint 1': {'valor': 91.0, 'capacidade': 172.0}, 'Sprint 2': {'valor': 84.0, 'capacidade': 174.0}, 'Sprint 3': {'valor': 79.0, 'capacidade': 180.0}, 'Sprint 4': {'valor': 100.0, 'capacidade': 176.0}, 'Sprint 5': {'valor': 65.0, 'capacidade': 180.0}, 'Sprint 6': {'valor': 46.0, 'capacidade': 176.0}, 'Sprint 7': {'valor': 59.0, 'capacidade': 180.0}, 'Sprint 8': {'valor': 13.0, 'capacidade': 61.0}}\n",
      "MIP - 70 : C:\\Users\\ronal\\PycharmProjects\\ppca-aed\\data\\output\\resultado-MIP-req-70.csv\n",
      "{'Sprint 1': {'valor': 81.0, 'capacidade': 180.0}, 'Sprint 2': {'valor': 103.0, 'capacidade': 180.0}, 'Sprint 3': {'valor': 69.0, 'capacidade': 173.0}, 'Sprint 4': {'valor': 63.0, 'capacidade': 179.0}, 'Sprint 5': {'valor': 75.0, 'capacidade': 176.0}, 'Sprint 6': {'valor': 97.0, 'capacidade': 177.0}, 'Sprint 7': {'valor': 73.0, 'capacidade': 174.0}, 'Sprint 8': {'valor': 41.0, 'capacidade': 178.0}, 'Sprint 9': {'valor': 52.0, 'capacidade': 160.0}}\n"
     ]
    }
   ],
   "source": [
    "############## ARQUIVO INCOMPLETO - A FINALIZAR\n",
    "\n",
    "# recupera o caminho completo do diretório de dados de resultado\n",
    "dir_dados_resultados = str(Path(os.getcwd()).parents[0]) + '\\data\\output'\n",
    "\n",
    "# percorre cada arquivo presente no diretório de dados de entrada\n",
    "for arquivo_resultado in Path(dir_dados_resultados).iterdir():\n",
    "\n",
    "    if not (arquivo_resultado.is_file() and arquivo_resultado.suffix == '.csv'):\n",
    "        continue\n",
    "\n",
    "    algoritmo = 'MIP' if str(arquivo_resultado).find('MIP') != -1 else 'CPSAT'\n",
    "\n",
    "    try:\n",
    "        qtd_requisitos = re.search('req-(.+?)\\\\.csv', str(arquivo_resultado)).group(1)\n",
    "    except AttributeError:\n",
    "        qtd_requisitos = ''\n",
    "\n",
    "    print(algoritmo, '-', qtd_requisitos, ':', arquivo_resultado)\n",
    "\n",
    "    # lista que armazenará os dados de cada arquivo\n",
    "    resultados = {}\n",
    "    requisitos = []\n",
    "    valores = []\n",
    "    pesos = []\n",
    "\n",
    "    if arquivo_resultado.is_file() and arquivo_resultado.suffix == '.csv':\n",
    "        # faz a leitura do CSV\n",
    "        with open(arquivo_resultado, newline='') as csvfile:\n",
    "            leitor = csv.DictReader(csvfile)\n",
    "            valor_capacidade = {}\n",
    "\n",
    "            for linha in leitor:\n",
    "                # sprint,requisito,valor_req,peso_req\n",
    "                sprint = linha['sprint']\n",
    "                valor = float(linha['valor_req'])\n",
    "                peso = float(linha['peso_req'])\n",
    "\n",
    "                valor_capacidade = resultados.get(sprint)\n",
    "\n",
    "                # primeira vez da análise da sprint, cria a chave e insere o valor (valor e peso do requisito)\n",
    "                if valor_capacidade is None:\n",
    "                    valor_capacidade = {'valor': 0, 'capacidade': 0}\n",
    "\n",
    "                valor_capacidade['valor'] += float(linha['valor_req'])\n",
    "                valor_capacidade['capacidade'] += float(linha['peso_req'])\n",
    "\n",
    "                resultados[sprint] = valor_capacidade\n",
    "            print(resultados)\n",
    "            #imprime_resultados_csv(algoritmo, qtd_requisitos, resultados)"
   ],
   "metadata": {
    "collapsed": false,
    "pycharm": {
     "name": "#%%\n"
    }
   }
  },
  {
   "cell_type": "code",
   "execution_count": null,
   "outputs": [],
   "source": [],
   "metadata": {
    "collapsed": false,
    "pycharm": {
     "name": "#%%\n"
    }
   }
  }
 ],
 "metadata": {
  "kernelspec": {
   "display_name": "Python 3",
   "language": "python",
   "name": "python3"
  },
  "language_info": {
   "codemirror_mode": {
    "name": "ipython",
    "version": 2
   },
   "file_extension": ".py",
   "mimetype": "text/x-python",
   "name": "python",
   "nbconvert_exporter": "python",
   "pygments_lexer": "ipython2",
   "version": "2.7.6"
  }
 },
 "nbformat": 4,
 "nbformat_minor": 0
}