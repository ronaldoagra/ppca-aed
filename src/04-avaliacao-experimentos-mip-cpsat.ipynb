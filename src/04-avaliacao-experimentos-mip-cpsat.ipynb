{
 "cells": [
  {
   "cell_type": "code",
   "execution_count": 8,
   "outputs": [],
   "source": [
    "import csv\n",
    "import os\n",
    "from pathlib import Path\n",
    "import re"
   ],
   "metadata": {
    "collapsed": false,
    "pycharm": {
     "name": "#%%\n"
    }
   }
  },
  {
   "cell_type": "code",
   "execution_count": 9,
   "outputs": [
    {
     "name": "stdout",
     "output_type": "stream",
     "text": [
      "CPSAT - 10 : C:\\Users\\ronal\\PycharmProjects\\ppca-aed\\data\\output\\resultado-CPSAT-req-10.csv\n",
      "{'Sprint 1': {'valor': 34.0, 'capacidade': 118.0}, 'Sprint 2': {'valor': 45.0, 'capacidade': 385.0}, 'Sprint 3': {'valor': 195.0, 'capacidade': 472.0}}\n",
      "CPSAT - 100 : C:\\Users\\ronal\\PycharmProjects\\ppca-aed\\data\\output\\resultado-CPSAT-req-100.csv\n",
      "{'Sprint 1': {'valor': 130.0, 'capacidade': 291.0}, 'Sprint 2': {'valor': 124.0, 'capacidade': 447.0}, 'Sprint 3': {'valor': 208.0, 'capacidade': 451.0}, 'Sprint 4': {'valor': 125.0, 'capacidade': 451.0}, 'Sprint 5': {'valor': 130.0, 'capacidade': 479.0}, 'Sprint 6': {'valor': 219.0, 'capacidade': 473.0}, 'Sprint 7': {'valor': 180.0, 'capacidade': 479.0}, 'Sprint 8': {'valor': 112.0, 'capacidade': 465.0}, 'Sprint 9': {'valor': 150.0, 'capacidade': 480.0}, 'Sprint 10': {'valor': 107.0, 'capacidade': 478.0}, 'Sprint 11': {'valor': 154.0, 'capacidade': 472.0}, 'Sprint 12': {'valor': 174.0, 'capacidade': 472.0}, 'Sprint 13': {'valor': 248.0, 'capacidade': 479.0}, 'Sprint 14': {'valor': 189.0, 'capacidade': 472.0}, 'Sprint 15': {'valor': 93.0, 'capacidade': 465.0}, 'Sprint 16': {'valor': 175.0, 'capacidade': 470.0}, 'Sprint 17': {'valor': 206.0, 'capacidade': 471.0}}\n",
      "CPSAT - 200 : C:\\Users\\ronal\\PycharmProjects\\ppca-aed\\data\\output\\resultado-CPSAT-req-200.csv\n",
      "{'Sprint 1': {'valor': 84.0, 'capacidade': 472.0}, 'Sprint 2': {'valor': 153.0, 'capacidade': 469.0}, 'Sprint 3': {'valor': 171.0, 'capacidade': 475.0}, 'Sprint 4': {'valor': 125.0, 'capacidade': 478.0}, 'Sprint 5': {'valor': 174.0, 'capacidade': 469.0}, 'Sprint 6': {'valor': 124.0, 'capacidade': 479.0}, 'Sprint 7': {'valor': 149.0, 'capacidade': 473.0}, 'Sprint 8': {'valor': 93.0, 'capacidade': 459.0}, 'Sprint 9': {'valor': 218.0, 'capacidade': 473.0}, 'Sprint 10': {'valor': 205.0, 'capacidade': 466.0}, 'Sprint 11': {'valor': 154.0, 'capacidade': 471.0}, 'Sprint 12': {'valor': 86.0, 'capacidade': 478.0}, 'Sprint 13': {'valor': 152.0, 'capacidade': 475.0}, 'Sprint 14': {'valor': 131.0, 'capacidade': 473.0}, 'Sprint 15': {'valor': 166.0, 'capacidade': 476.0}, 'Sprint 16': {'valor': 133.0, 'capacidade': 472.0}, 'Sprint 17': {'valor': 199.0, 'capacidade': 458.0}, 'Sprint 18': {'valor': 216.0, 'capacidade': 475.0}, 'Sprint 19': {'valor': 143.0, 'capacidade': 478.0}, 'Sprint 20': {'valor': 262.0, 'capacidade': 471.0}, 'Sprint 21': {'valor': 45.0, 'capacidade': 446.0}, 'Sprint 22': {'valor': 217.0, 'capacidade': 474.0}, 'Sprint 23': {'valor': 109.0, 'capacidade': 473.0}, 'Sprint 24': {'valor': 198.0, 'capacidade': 479.0}, 'Sprint 25': {'valor': 124.0, 'capacidade': 480.0}, 'Sprint 26': {'valor': 137.0, 'capacidade': 478.0}, 'Sprint 27': {'valor': 160.0, 'capacidade': 473.0}, 'Sprint 28': {'valor': 123.0, 'capacidade': 479.0}, 'Sprint 29': {'valor': 171.0, 'capacidade': 475.0}, 'Sprint 30': {'valor': 150.0, 'capacidade': 479.0}, 'Sprint 31': {'valor': 144.0, 'capacidade': 473.0}, 'Sprint 32': {'valor': 252.0, 'capacidade': 467.0}, 'Sprint 33': {'valor': 101.0, 'capacidade': 479.0}, 'Sprint 34': {'valor': 184.0, 'capacidade': 475.0}, 'Sprint 35': {'valor': 188.0, 'capacidade': 480.0}}\n",
      "CPSAT - 30 : C:\\Users\\ronal\\PycharmProjects\\ppca-aed\\data\\output\\resultado-CPSAT-req-30.csv\n",
      "{'Sprint 1': {'valor': 78.0, 'capacidade': 375.0}, 'Sprint 2': {'valor': 116.0, 'capacidade': 480.0}, 'Sprint 3': {'valor': 171.0, 'capacidade': 471.0}, 'Sprint 4': {'valor': 167.0, 'capacidade': 465.0}, 'Sprint 5': {'valor': 283.0, 'capacidade': 476.0}}\n",
      "CPSAT - 300 : C:\\Users\\ronal\\PycharmProjects\\ppca-aed\\data\\output\\resultado-CPSAT-req-300.csv\n",
      "{'Sprint 1': {'valor': 231.0, 'capacidade': 475.0}, 'Sprint 2': {'valor': 162.0, 'capacidade': 471.0}, 'Sprint 3': {'valor': 188.0, 'capacidade': 469.0}, 'Sprint 4': {'valor': 136.0, 'capacidade': 477.0}, 'Sprint 5': {'valor': 240.0, 'capacidade': 467.0}, 'Sprint 6': {'valor': 216.0, 'capacidade': 473.0}, 'Sprint 7': {'valor': 229.0, 'capacidade': 472.0}, 'Sprint 8': {'valor': 144.0, 'capacidade': 480.0}, 'Sprint 9': {'valor': 162.0, 'capacidade': 478.0}, 'Sprint 10': {'valor': 79.0, 'capacidade': 480.0}, 'Sprint 11': {'valor': 178.0, 'capacidade': 475.0}, 'Sprint 12': {'valor': 130.0, 'capacidade': 469.0}, 'Sprint 13': {'valor': 195.0, 'capacidade': 479.0}, 'Sprint 14': {'valor': 156.0, 'capacidade': 478.0}, 'Sprint 15': {'valor': 111.0, 'capacidade': 480.0}, 'Sprint 16': {'valor': 138.0, 'capacidade': 479.0}, 'Sprint 17': {'valor': 209.0, 'capacidade': 479.0}, 'Sprint 18': {'valor': 172.0, 'capacidade': 479.0}, 'Sprint 19': {'valor': 172.0, 'capacidade': 476.0}, 'Sprint 20': {'valor': 174.0, 'capacidade': 476.0}, 'Sprint 21': {'valor': 213.0, 'capacidade': 475.0}, 'Sprint 22': {'valor': 194.0, 'capacidade': 477.0}, 'Sprint 23': {'valor': 104.0, 'capacidade': 477.0}, 'Sprint 24': {'valor': 167.0, 'capacidade': 473.0}, 'Sprint 25': {'valor': 175.0, 'capacidade': 477.0}, 'Sprint 26': {'valor': 233.0, 'capacidade': 478.0}, 'Sprint 27': {'valor': 133.0, 'capacidade': 477.0}, 'Sprint 28': {'valor': 109.0, 'capacidade': 479.0}, 'Sprint 29': {'valor': 206.0, 'capacidade': 475.0}, 'Sprint 30': {'valor': 132.0, 'capacidade': 475.0}, 'Sprint 31': {'valor': 178.0, 'capacidade': 476.0}, 'Sprint 32': {'valor': 174.0, 'capacidade': 477.0}, 'Sprint 33': {'valor': 152.0, 'capacidade': 467.0}, 'Sprint 34': {'valor': 130.0, 'capacidade': 477.0}, 'Sprint 35': {'valor': 209.0, 'capacidade': 472.0}, 'Sprint 36': {'valor': 109.0, 'capacidade': 475.0}, 'Sprint 37': {'valor': 197.0, 'capacidade': 478.0}, 'Sprint 38': {'valor': 169.0, 'capacidade': 478.0}, 'Sprint 39': {'valor': 174.0, 'capacidade': 471.0}, 'Sprint 40': {'valor': 169.0, 'capacidade': 479.0}, 'Sprint 41': {'valor': 126.0, 'capacidade': 476.0}, 'Sprint 42': {'valor': 199.0, 'capacidade': 480.0}, 'Sprint 43': {'valor': 208.0, 'capacidade': 477.0}, 'Sprint 44': {'valor': 139.0, 'capacidade': 480.0}, 'Sprint 45': {'valor': 256.0, 'capacidade': 479.0}, 'Sprint 46': {'valor': 148.0, 'capacidade': 480.0}, 'Sprint 47': {'valor': 186.0, 'capacidade': 472.0}, 'Sprint 48': {'valor': 158.0, 'capacidade': 472.0}, 'Sprint 49': {'valor': 207.0, 'capacidade': 464.0}}\n",
      "CPSAT - 400 : C:\\Users\\ronal\\PycharmProjects\\ppca-aed\\data\\output\\resultado-CPSAT-req-400.csv\n",
      "{'Sprint 1': {'valor': 171.0, 'capacidade': 429.0}, 'Sprint 2': {'valor': 195.0, 'capacidade': 464.0}, 'Sprint 3': {'valor': 154.0, 'capacidade': 474.0}, 'Sprint 4': {'valor': 130.0, 'capacidade': 480.0}, 'Sprint 5': {'valor': 155.0, 'capacidade': 474.0}, 'Sprint 6': {'valor': 169.0, 'capacidade': 478.0}, 'Sprint 7': {'valor': 164.0, 'capacidade': 480.0}, 'Sprint 8': {'valor': 173.0, 'capacidade': 479.0}, 'Sprint 9': {'valor': 184.0, 'capacidade': 477.0}, 'Sprint 10': {'valor': 95.0, 'capacidade': 475.0}, 'Sprint 11': {'valor': 196.0, 'capacidade': 477.0}, 'Sprint 12': {'valor': 161.0, 'capacidade': 478.0}, 'Sprint 13': {'valor': 175.0, 'capacidade': 478.0}, 'Sprint 14': {'valor': 182.0, 'capacidade': 472.0}, 'Sprint 15': {'valor': 235.0, 'capacidade': 469.0}, 'Sprint 16': {'valor': 128.0, 'capacidade': 462.0}, 'Sprint 17': {'valor': 194.0, 'capacidade': 479.0}, 'Sprint 18': {'valor': 224.0, 'capacidade': 476.0}, 'Sprint 19': {'valor': 181.0, 'capacidade': 478.0}, 'Sprint 20': {'valor': 223.0, 'capacidade': 479.0}, 'Sprint 21': {'valor': 165.0, 'capacidade': 474.0}, 'Sprint 22': {'valor': 88.0, 'capacidade': 480.0}, 'Sprint 23': {'valor': 151.0, 'capacidade': 475.0}, 'Sprint 24': {'valor': 218.0, 'capacidade': 473.0}, 'Sprint 25': {'valor': 139.0, 'capacidade': 480.0}, 'Sprint 26': {'valor': 173.0, 'capacidade': 472.0}, 'Sprint 27': {'valor': 114.0, 'capacidade': 477.0}, 'Sprint 28': {'valor': 254.0, 'capacidade': 477.0}, 'Sprint 29': {'valor': 198.0, 'capacidade': 466.0}, 'Sprint 30': {'valor': 256.0, 'capacidade': 480.0}, 'Sprint 31': {'valor': 170.0, 'capacidade': 475.0}, 'Sprint 32': {'valor': 159.0, 'capacidade': 466.0}, 'Sprint 33': {'valor': 140.0, 'capacidade': 473.0}, 'Sprint 34': {'valor': 211.0, 'capacidade': 479.0}, 'Sprint 35': {'valor': 202.0, 'capacidade': 474.0}, 'Sprint 36': {'valor': 82.0, 'capacidade': 471.0}, 'Sprint 37': {'valor': 149.0, 'capacidade': 470.0}, 'Sprint 38': {'valor': 200.0, 'capacidade': 475.0}, 'Sprint 39': {'valor': 154.0, 'capacidade': 473.0}, 'Sprint 40': {'valor': 184.0, 'capacidade': 474.0}, 'Sprint 41': {'valor': 161.0, 'capacidade': 473.0}, 'Sprint 42': {'valor': 173.0, 'capacidade': 471.0}, 'Sprint 43': {'valor': 76.0, 'capacidade': 475.0}, 'Sprint 44': {'valor': 169.0, 'capacidade': 479.0}, 'Sprint 45': {'valor': 162.0, 'capacidade': 473.0}, 'Sprint 46': {'valor': 209.0, 'capacidade': 473.0}, 'Sprint 47': {'valor': 141.0, 'capacidade': 480.0}, 'Sprint 48': {'valor': 94.0, 'capacidade': 480.0}, 'Sprint 49': {'valor': 228.0, 'capacidade': 468.0}, 'Sprint 50': {'valor': 168.0, 'capacidade': 473.0}, 'Sprint 51': {'valor': 198.0, 'capacidade': 476.0}, 'Sprint 52': {'valor': 184.0, 'capacidade': 466.0}, 'Sprint 53': {'valor': 133.0, 'capacidade': 478.0}, 'Sprint 54': {'valor': 269.0, 'capacidade': 472.0}, 'Sprint 55': {'valor': 142.0, 'capacidade': 466.0}, 'Sprint 56': {'valor': 141.0, 'capacidade': 476.0}, 'Sprint 57': {'valor': 114.0, 'capacidade': 472.0}, 'Sprint 58': {'valor': 206.0, 'capacidade': 468.0}, 'Sprint 59': {'valor': 103.0, 'capacidade': 470.0}, 'Sprint 60': {'valor': 254.0, 'capacidade': 474.0}, 'Sprint 61': {'valor': 117.0, 'capacidade': 477.0}, 'Sprint 62': {'valor': 176.0, 'capacidade': 477.0}, 'Sprint 63': {'valor': 130.0, 'capacidade': 477.0}, 'Sprint 64': {'valor': 170.0, 'capacidade': 468.0}, 'Sprint 65': {'valor': 198.0, 'capacidade': 478.0}, 'Sprint 66': {'valor': 223.0, 'capacidade': 480.0}, 'Sprint 67': {'valor': 152.0, 'capacidade': 480.0}, 'Sprint 68': {'valor': 222.0, 'capacidade': 480.0}}\n",
      "CPSAT - 50 : C:\\Users\\ronal\\PycharmProjects\\ppca-aed\\data\\output\\resultado-CPSAT-req-50.csv\n",
      "{'Sprint 1': {'valor': 84.0, 'capacidade': 306.0}, 'Sprint 2': {'valor': 188.0, 'capacidade': 476.0}, 'Sprint 3': {'valor': 138.0, 'capacidade': 460.0}, 'Sprint 4': {'valor': 138.0, 'capacidade': 461.0}, 'Sprint 5': {'valor': 136.0, 'capacidade': 455.0}, 'Sprint 6': {'valor': 148.0, 'capacidade': 438.0}, 'Sprint 7': {'valor': 120.0, 'capacidade': 472.0}, 'Sprint 8': {'valor': 131.0, 'capacidade': 465.0}, 'Sprint 9': {'valor': 180.0, 'capacidade': 467.0}, 'Sprint 10': {'valor': 154.0, 'capacidade': 476.0}}\n",
      "CPSAT - 70 : C:\\Users\\ronal\\PycharmProjects\\ppca-aed\\data\\output\\resultado-CPSAT-req-70.csv\n",
      "{'Sprint 1': {'valor': 75.0, 'capacidade': 172.0}, 'Sprint 2': {'valor': 131.0, 'capacidade': 470.0}, 'Sprint 3': {'valor': 136.0, 'capacidade': 466.0}, 'Sprint 4': {'valor': 207.0, 'capacidade': 480.0}, 'Sprint 5': {'valor': 167.0, 'capacidade': 477.0}, 'Sprint 6': {'valor': 118.0, 'capacidade': 478.0}, 'Sprint 7': {'valor': 173.0, 'capacidade': 476.0}, 'Sprint 8': {'valor': 145.0, 'capacidade': 465.0}, 'Sprint 9': {'valor': 237.0, 'capacidade': 480.0}, 'Sprint 10': {'valor': 213.0, 'capacidade': 469.0}, 'Sprint 11': {'valor': 166.0, 'capacidade': 469.0}, 'Sprint 12': {'valor': 210.0, 'capacidade': 465.0}}\n",
      "MIP - 10 : C:\\Users\\ronal\\PycharmProjects\\ppca-aed\\data\\output\\resultado-MIP-req-10.csv\n",
      "{'Sprint 1': {'valor': 137.0, 'capacidade': 476.0}, 'Sprint 2': {'valor': 102.0, 'capacidade': 415.0}, 'Sprint 3': {'valor': 35.0, 'capacidade': 84.0}}\n",
      "MIP - 100 : C:\\Users\\ronal\\PycharmProjects\\ppca-aed\\data\\output\\resultado-MIP-req-100.csv\n",
      "{'Sprint 1': {'valor': 264.0, 'capacidade': 471.0}, 'Sprint 2': {'valor': 200.0, 'capacidade': 479.0}, 'Sprint 3': {'valor': 181.0, 'capacidade': 470.0}, 'Sprint 4': {'valor': 209.0, 'capacidade': 479.0}, 'Sprint 5': {'valor': 106.0, 'capacidade': 467.0}, 'Sprint 6': {'valor': 221.0, 'capacidade': 465.0}, 'Sprint 7': {'valor': 146.0, 'capacidade': 478.0}, 'Sprint 8': {'valor': 118.0, 'capacidade': 469.0}, 'Sprint 9': {'valor': 107.0, 'capacidade': 476.0}, 'Sprint 10': {'valor': 155.0, 'capacidade': 480.0}, 'Sprint 11': {'valor': 175.0, 'capacidade': 477.0}, 'Sprint 12': {'valor': 179.0, 'capacidade': 473.0}, 'Sprint 13': {'valor': 190.0, 'capacidade': 478.0}, 'Sprint 14': {'valor': 181.0, 'capacidade': 471.0}, 'Sprint 15': {'valor': 89.0, 'capacidade': 466.0}, 'Sprint 16': {'valor': 160.0, 'capacidade': 471.0}, 'Sprint 17': {'valor': 43.0, 'capacidade': 225.0}}\n",
      "MIP - 200 : C:\\Users\\ronal\\PycharmProjects\\ppca-aed\\data\\output\\resultado-MIP-req-200.csv\n",
      "{'Sprint 1': {'valor': 112.0, 'capacidade': 469.0}, 'Sprint 2': {'valor': 145.0, 'capacidade': 475.0}, 'Sprint 3': {'valor': 152.0, 'capacidade': 469.0}, 'Sprint 4': {'valor': 120.0, 'capacidade': 468.0}, 'Sprint 5': {'valor': 95.0, 'capacidade': 478.0}, 'Sprint 6': {'valor': 165.0, 'capacidade': 468.0}, 'Sprint 7': {'valor': 125.0, 'capacidade': 477.0}, 'Sprint 8': {'valor': 186.0, 'capacidade': 480.0}, 'Sprint 9': {'valor': 126.0, 'capacidade': 476.0}, 'Sprint 10': {'valor': 210.0, 'capacidade': 477.0}, 'Sprint 11': {'valor': 191.0, 'capacidade': 478.0}, 'Sprint 12': {'valor': 150.0, 'capacidade': 480.0}, 'Sprint 13': {'valor': 183.0, 'capacidade': 480.0}, 'Sprint 14': {'valor': 171.0, 'capacidade': 478.0}, 'Sprint 15': {'valor': 159.0, 'capacidade': 478.0}, 'Sprint 16': {'valor': 85.0, 'capacidade': 465.0}, 'Sprint 17': {'valor': 197.0, 'capacidade': 471.0}, 'Sprint 18': {'valor': 199.0, 'capacidade': 473.0}, 'Sprint 19': {'valor': 130.0, 'capacidade': 477.0}, 'Sprint 20': {'valor': 185.0, 'capacidade': 458.0}, 'Sprint 21': {'valor': 93.0, 'capacidade': 475.0}, 'Sprint 22': {'valor': 126.0, 'capacidade': 474.0}, 'Sprint 23': {'valor': 161.0, 'capacidade': 465.0}, 'Sprint 24': {'valor': 166.0, 'capacidade': 471.0}, 'Sprint 25': {'valor': 126.0, 'capacidade': 470.0}, 'Sprint 26': {'valor': 173.0, 'capacidade': 470.0}, 'Sprint 27': {'valor': 124.0, 'capacidade': 462.0}, 'Sprint 28': {'valor': 137.0, 'capacidade': 478.0}, 'Sprint 29': {'valor': 182.0, 'capacidade': 473.0}, 'Sprint 30': {'valor': 131.0, 'capacidade': 463.0}, 'Sprint 31': {'valor': 168.0, 'capacidade': 477.0}, 'Sprint 32': {'valor': 169.0, 'capacidade': 473.0}, 'Sprint 33': {'valor': 252.0, 'capacidade': 476.0}, 'Sprint 34': {'valor': 249.0, 'capacidade': 477.0}, 'Sprint 35': {'valor': 98.0, 'capacidade': 471.0}}\n",
      "MIP - 30 : C:\\Users\\ronal\\PycharmProjects\\ppca-aed\\data\\output\\resultado-MIP-req-30.csv\n",
      "{'Sprint 1': {'valor': 139.0, 'capacidade': 460.0}, 'Sprint 2': {'valor': 106.0, 'capacidade': 473.0}, 'Sprint 3': {'valor': 155.0, 'capacidade': 446.0}, 'Sprint 4': {'valor': 230.0, 'capacidade': 474.0}, 'Sprint 5': {'valor': 185.0, 'capacidade': 414.0}}\n",
      "MIP - 300 : C:\\Users\\ronal\\PycharmProjects\\ppca-aed\\data\\output\\resultado-MIP-req-300.csv\n",
      "{'Sprint 1': {'valor': 167.0, 'capacidade': 479.0}, 'Sprint 2': {'valor': 248.0, 'capacidade': 477.0}, 'Sprint 3': {'valor': 76.0, 'capacidade': 475.0}, 'Sprint 4': {'valor': 204.0, 'capacidade': 480.0}, 'Sprint 5': {'valor': 113.0, 'capacidade': 480.0}, 'Sprint 6': {'valor': 212.0, 'capacidade': 480.0}, 'Sprint 7': {'valor': 128.0, 'capacidade': 480.0}, 'Sprint 8': {'valor': 142.0, 'capacidade': 476.0}, 'Sprint 9': {'valor': 146.0, 'capacidade': 475.0}, 'Sprint 10': {'valor': 221.0, 'capacidade': 478.0}, 'Sprint 11': {'valor': 138.0, 'capacidade': 478.0}, 'Sprint 12': {'valor': 100.0, 'capacidade': 460.0}, 'Sprint 13': {'valor': 163.0, 'capacidade': 469.0}, 'Sprint 14': {'valor': 131.0, 'capacidade': 475.0}, 'Sprint 15': {'valor': 178.0, 'capacidade': 470.0}, 'Sprint 16': {'valor': 213.0, 'capacidade': 475.0}, 'Sprint 17': {'valor': 175.0, 'capacidade': 480.0}, 'Sprint 18': {'valor': 168.0, 'capacidade': 479.0}, 'Sprint 19': {'valor': 179.0, 'capacidade': 480.0}, 'Sprint 20': {'valor': 187.0, 'capacidade': 474.0}, 'Sprint 21': {'valor': 241.0, 'capacidade': 479.0}, 'Sprint 22': {'valor': 107.0, 'capacidade': 474.0}, 'Sprint 23': {'valor': 230.0, 'capacidade': 476.0}, 'Sprint 24': {'valor': 149.0, 'capacidade': 479.0}, 'Sprint 25': {'valor': 114.0, 'capacidade': 478.0}, 'Sprint 26': {'valor': 202.0, 'capacidade': 480.0}, 'Sprint 27': {'valor': 249.0, 'capacidade': 478.0}, 'Sprint 28': {'valor': 193.0, 'capacidade': 473.0}, 'Sprint 29': {'valor': 146.0, 'capacidade': 478.0}, 'Sprint 30': {'valor': 179.0, 'capacidade': 478.0}, 'Sprint 31': {'valor': 186.0, 'capacidade': 480.0}, 'Sprint 32': {'valor': 112.0, 'capacidade': 471.0}, 'Sprint 33': {'valor': 183.0, 'capacidade': 465.0}, 'Sprint 34': {'valor': 219.0, 'capacidade': 479.0}, 'Sprint 35': {'valor': 109.0, 'capacidade': 470.0}, 'Sprint 36': {'valor': 164.0, 'capacidade': 479.0}, 'Sprint 37': {'valor': 191.0, 'capacidade': 480.0}, 'Sprint 38': {'valor': 149.0, 'capacidade': 475.0}, 'Sprint 39': {'valor': 137.0, 'capacidade': 480.0}, 'Sprint 40': {'valor': 186.0, 'capacidade': 480.0}, 'Sprint 41': {'valor': 75.0, 'capacidade': 466.0}, 'Sprint 42': {'valor': 197.0, 'capacidade': 480.0}, 'Sprint 43': {'valor': 189.0, 'capacidade': 479.0}, 'Sprint 44': {'valor': 270.0, 'capacidade': 464.0}, 'Sprint 45': {'valor': 133.0, 'capacidade': 474.0}, 'Sprint 46': {'valor': 155.0, 'capacidade': 480.0}, 'Sprint 47': {'valor': 206.0, 'capacidade': 467.0}, 'Sprint 48': {'valor': 160.0, 'capacidade': 467.0}, 'Sprint 49': {'valor': 256.0, 'capacidade': 476.0}}\n",
      "MIP - 400 : C:\\Users\\ronal\\PycharmProjects\\ppca-aed\\data\\output\\resultado-MIP-req-400.csv\n",
      "{'Sprint 1': {'valor': 135.0, 'capacidade': 479.0}, 'Sprint 2': {'valor': 169.0, 'capacidade': 477.0}, 'Sprint 3': {'valor': 253.0, 'capacidade': 466.0}, 'Sprint 4': {'valor': 199.0, 'capacidade': 478.0}, 'Sprint 5': {'valor': 259.0, 'capacidade': 476.0}, 'Sprint 6': {'valor': 294.0, 'capacidade': 473.0}, 'Sprint 7': {'valor': 176.0, 'capacidade': 474.0}, 'Sprint 8': {'valor': 86.0, 'capacidade': 471.0}, 'Sprint 9': {'valor': 173.0, 'capacidade': 477.0}, 'Sprint 10': {'valor': 158.0, 'capacidade': 474.0}, 'Sprint 11': {'valor': 159.0, 'capacidade': 474.0}, 'Sprint 12': {'valor': 187.0, 'capacidade': 473.0}, 'Sprint 13': {'valor': 151.0, 'capacidade': 472.0}, 'Sprint 14': {'valor': 194.0, 'capacidade': 478.0}, 'Sprint 15': {'valor': 137.0, 'capacidade': 471.0}, 'Sprint 16': {'valor': 139.0, 'capacidade': 474.0}, 'Sprint 17': {'valor': 208.0, 'capacidade': 475.0}, 'Sprint 18': {'valor': 124.0, 'capacidade': 479.0}, 'Sprint 19': {'valor': 113.0, 'capacidade': 459.0}, 'Sprint 20': {'valor': 123.0, 'capacidade': 478.0}, 'Sprint 21': {'valor': 199.0, 'capacidade': 476.0}, 'Sprint 22': {'valor': 114.0, 'capacidade': 474.0}, 'Sprint 23': {'valor': 95.0, 'capacidade': 472.0}, 'Sprint 24': {'valor': 201.0, 'capacidade': 478.0}, 'Sprint 25': {'valor': 198.0, 'capacidade': 480.0}, 'Sprint 26': {'valor': 92.0, 'capacidade': 477.0}, 'Sprint 27': {'valor': 185.0, 'capacidade': 479.0}, 'Sprint 28': {'valor': 155.0, 'capacidade': 478.0}, 'Sprint 29': {'valor': 191.0, 'capacidade': 472.0}, 'Sprint 30': {'valor': 210.0, 'capacidade': 477.0}, 'Sprint 31': {'valor': 200.0, 'capacidade': 467.0}, 'Sprint 32': {'valor': 136.0, 'capacidade': 479.0}, 'Sprint 33': {'valor': 163.0, 'capacidade': 476.0}, 'Sprint 34': {'valor': 206.0, 'capacidade': 477.0}, 'Sprint 35': {'valor': 294.0, 'capacidade': 456.0}, 'Sprint 36': {'valor': 96.0, 'capacidade': 466.0}, 'Sprint 37': {'valor': 149.0, 'capacidade': 480.0}, 'Sprint 38': {'valor': 210.0, 'capacidade': 471.0}, 'Sprint 39': {'valor': 115.0, 'capacidade': 477.0}, 'Sprint 40': {'valor': 112.0, 'capacidade': 470.0}, 'Sprint 41': {'valor': 175.0, 'capacidade': 471.0}, 'Sprint 42': {'valor': 108.0, 'capacidade': 474.0}, 'Sprint 43': {'valor': 174.0, 'capacidade': 462.0}, 'Sprint 44': {'valor': 117.0, 'capacidade': 477.0}, 'Sprint 45': {'valor': 160.0, 'capacidade': 470.0}, 'Sprint 46': {'valor': 168.0, 'capacidade': 470.0}, 'Sprint 47': {'valor': 191.0, 'capacidade': 474.0}, 'Sprint 48': {'valor': 111.0, 'capacidade': 478.0}, 'Sprint 49': {'valor': 217.0, 'capacidade': 477.0}, 'Sprint 50': {'valor': 204.0, 'capacidade': 465.0}, 'Sprint 51': {'valor': 179.0, 'capacidade': 462.0}, 'Sprint 52': {'valor': 207.0, 'capacidade': 475.0}, 'Sprint 53': {'valor': 156.0, 'capacidade': 471.0}, 'Sprint 54': {'valor': 240.0, 'capacidade': 478.0}, 'Sprint 55': {'valor': 82.0, 'capacidade': 478.0}, 'Sprint 56': {'valor': 224.0, 'capacidade': 480.0}, 'Sprint 57': {'valor': 147.0, 'capacidade': 480.0}, 'Sprint 58': {'valor': 144.0, 'capacidade': 467.0}, 'Sprint 59': {'valor': 116.0, 'capacidade': 464.0}, 'Sprint 60': {'valor': 204.0, 'capacidade': 475.0}, 'Sprint 61': {'valor': 199.0, 'capacidade': 478.0}, 'Sprint 62': {'valor': 188.0, 'capacidade': 472.0}, 'Sprint 63': {'valor': 210.0, 'capacidade': 476.0}, 'Sprint 64': {'valor': 213.0, 'capacidade': 479.0}, 'Sprint 65': {'valor': 187.0, 'capacidade': 476.0}, 'Sprint 66': {'valor': 199.0, 'capacidade': 474.0}, 'Sprint 67': {'valor': 168.0, 'capacidade': 479.0}, 'Sprint 68': {'valor': 163.0, 'capacidade': 480.0}}\n",
      "MIP - 50 : C:\\Users\\ronal\\PycharmProjects\\ppca-aed\\data\\output\\resultado-MIP-req-50.csv\n",
      "{'Sprint 1': {'valor': 136.0, 'capacidade': 474.0}, 'Sprint 2': {'valor': 228.0, 'capacidade': 460.0}, 'Sprint 3': {'valor': 106.0, 'capacidade': 477.0}, 'Sprint 4': {'valor': 133.0, 'capacidade': 475.0}, 'Sprint 5': {'valor': 112.0, 'capacidade': 429.0}, 'Sprint 6': {'valor': 158.0, 'capacidade': 429.0}, 'Sprint 7': {'valor': 143.0, 'capacidade': 421.0}, 'Sprint 8': {'valor': 83.0, 'capacidade': 432.0}, 'Sprint 9': {'valor': 125.0, 'capacidade': 416.0}, 'Sprint 10': {'valor': 193.0, 'capacidade': 463.0}}\n",
      "MIP - 70 : C:\\Users\\ronal\\PycharmProjects\\ppca-aed\\data\\output\\resultado-MIP-req-70.csv\n",
      "{'Sprint 1': {'valor': 200.0, 'capacidade': 480.0}, 'Sprint 2': {'valor': 142.0, 'capacidade': 474.0}, 'Sprint 3': {'valor': 204.0, 'capacidade': 477.0}, 'Sprint 4': {'valor': 236.0, 'capacidade': 475.0}, 'Sprint 5': {'valor': 120.0, 'capacidade': 471.0}, 'Sprint 6': {'valor': 151.0, 'capacidade': 480.0}, 'Sprint 7': {'valor': 133.0, 'capacidade': 471.0}, 'Sprint 8': {'valor': 154.0, 'capacidade': 479.0}, 'Sprint 9': {'valor': 224.0, 'capacidade': 461.0}, 'Sprint 10': {'valor': 164.0, 'capacidade': 441.0}, 'Sprint 11': {'valor': 199.0, 'capacidade': 446.0}, 'Sprint 12': {'valor': 51.0, 'capacidade': 212.0}}\n",
      "######################\n",
      "[{'qtd_req': '10', 'algoritmo': 'CPSAT', 'num_sprints': 3, 'valor_medio': 91.33, 'alocacao_medio': 0.68}, {'qtd_req': '100', 'algoritmo': 'CPSAT', 'num_sprints': 17, 'valor_medio': 160.24, 'alocacao_medio': 0.96}, {'qtd_req': '200', 'algoritmo': 'CPSAT', 'num_sprints': 35, 'valor_medio': 155.46, 'alocacao_medio': 0.99}, {'qtd_req': '30', 'algoritmo': 'CPSAT', 'num_sprints': 5, 'valor_medio': 163.0, 'alocacao_medio': 0.94}, {'qtd_req': '300', 'algoritmo': 'CPSAT', 'num_sprints': 49, 'valor_medio': 170.94, 'alocacao_medio': 0.99}, {'qtd_req': '400', 'algoritmo': 'CPSAT', 'num_sprints': 68, 'valor_medio': 170.72, 'alocacao_medio': 0.99}, {'qtd_req': '50', 'algoritmo': 'CPSAT', 'num_sprints': 10, 'valor_medio': 141.7, 'alocacao_medio': 0.93}, {'qtd_req': '70', 'algoritmo': 'CPSAT', 'num_sprints': 12, 'valor_medio': 164.83, 'alocacao_medio': 0.93}, {'qtd_req': '10', 'algoritmo': 'MIP', 'num_sprints': 3, 'valor_medio': 91.33, 'alocacao_medio': 0.68}, {'qtd_req': '100', 'algoritmo': 'MIP', 'num_sprints': 17, 'valor_medio': 160.24, 'alocacao_medio': 0.96}, {'qtd_req': '200', 'algoritmo': 'MIP', 'num_sprints': 35, 'valor_medio': 155.46, 'alocacao_medio': 0.99}, {'qtd_req': '30', 'algoritmo': 'MIP', 'num_sprints': 5, 'valor_medio': 163.0, 'alocacao_medio': 0.94}, {'qtd_req': '300', 'algoritmo': 'MIP', 'num_sprints': 49, 'valor_medio': 170.94, 'alocacao_medio': 0.99}, {'qtd_req': '400', 'algoritmo': 'MIP', 'num_sprints': 68, 'valor_medio': 170.72, 'alocacao_medio': 0.99}, {'qtd_req': '50', 'algoritmo': 'MIP', 'num_sprints': 10, 'valor_medio': 141.7, 'alocacao_medio': 0.93}, {'qtd_req': '70', 'algoritmo': 'MIP', 'num_sprints': 12, 'valor_medio': 164.83, 'alocacao_medio': 0.93}]\n"
     ]
    }
   ],
   "source": [
    "############## ARQUIVO INCOMPLETO - A FINALIZAR\n",
    "\n",
    "# recupera o caminho completo do diretório de dados de resultado\n",
    "dir_dados_resultados = str(Path(os.getcwd()).parents[0]) + '\\data\\output'\n",
    "\n",
    "'''\n",
    "'''\n",
    "nomes_campos_arquivo = ['qtd_req', 'algoritmo', 'num_sprints', 'valor_medio', 'peso_medio']\n",
    "informacoes_comparativo = []\n",
    "\n",
    "linha_comparativo = {\n",
    "    'qtd_req': 0,\n",
    "    'algoritmo': 'MIP',\n",
    "    'num_sprints': 0,\n",
    "    'valor_medio': 0,\n",
    "    'peso_medio': 0\n",
    "}\n",
    "'''\n",
    "'''\n",
    "\n",
    "# percorre cada arquivo presente no diretório de dados de entrada\n",
    "for arquivo_resultado in Path(dir_dados_resultados).iterdir():\n",
    "\n",
    "    if not (arquivo_resultado.is_file() and arquivo_resultado.suffix == '.csv'):\n",
    "        continue\n",
    "\n",
    "    algoritmo = 'MIP' if str(arquivo_resultado).find('MIP') != -1 else 'CPSAT'\n",
    "\n",
    "    try:\n",
    "        qtd_requisitos = re.search('req-(.+?)\\\\.csv', str(arquivo_resultado)).group(1)\n",
    "    except AttributeError:\n",
    "        qtd_requisitos = ''\n",
    "\n",
    "    print(algoritmo, '-', qtd_requisitos, ':', arquivo_resultado)\n",
    "\n",
    "    # lista que armazenará os dados de cada arquivo\n",
    "    resultados = {}\n",
    "    requisitos = []\n",
    "    valores = []\n",
    "    pesos = []\n",
    "\n",
    "    if arquivo_resultado.is_file() and arquivo_resultado.suffix == '.csv':\n",
    "        # faz a leitura do CSV\n",
    "        with open(arquivo_resultado, newline='') as csvfile:\n",
    "            leitor = csv.DictReader(csvfile)\n",
    "            valor_capacidade = {}\n",
    "\n",
    "            '''\n",
    "            '''\n",
    "            sprints = set()\n",
    "            valor_total = 0.0\n",
    "            peso_total = 0.0\n",
    "            perc_alocacao = 0.0\n",
    "            '''\n",
    "            '''\n",
    "\n",
    "            for linha in leitor:\n",
    "                # sprint,requisito,valor_req,peso_req\n",
    "                sprint = linha['sprint']\n",
    "                valor = float(linha['valor_req'])\n",
    "                peso = float(linha['peso_req'])\n",
    "\n",
    "                '''\n",
    "                '''\n",
    "                sprints.add(sprint)\n",
    "                valor_total += valor\n",
    "                peso_total += peso\n",
    "                perc_alocacao += peso / 480\n",
    "                '''\n",
    "                '''\n",
    "\n",
    "                valor_capacidade = resultados.get(sprint)\n",
    "\n",
    "                # primeira vez da análise da sprint, cria a chave e insere o valor (valor e peso do requisito)\n",
    "                if valor_capacidade is None:\n",
    "                    valor_capacidade = {'valor': 0, 'capacidade': 0}\n",
    "\n",
    "                valor_capacidade['valor'] += float(linha['valor_req'])\n",
    "                valor_capacidade['capacidade'] += float(linha['peso_req'])\n",
    "\n",
    "                resultados[sprint] = valor_capacidade\n",
    "            print(resultados)\n",
    "\n",
    "            '''\n",
    "            '''\n",
    "            linha_comparativo = {\n",
    "                'qtd_req': qtd_requisitos,\n",
    "                'algoritmo': algoritmo,\n",
    "                'num_sprints': len(sprints),\n",
    "                'valor_medio': round(valor_total / len(sprints), 2),\n",
    "                #'peso_medio': round(peso_total / len(sprints), 2)\n",
    "                'alocacao_medio': round(perc_alocacao / len(sprints), 2)\n",
    "            }\n",
    "            informacoes_comparativo.append(linha_comparativo)\n",
    "            '''\n",
    "            '''\n",
    "\n",
    "            #imprime_resultados_csv(algoritmo, qtd_requisitos, resultados)\n",
    "print('######################')\n",
    "print(informacoes_comparativo)"
   ],
   "metadata": {
    "collapsed": false,
    "pycharm": {
     "name": "#%%\n"
    }
   }
  },
  {
   "cell_type": "code",
   "execution_count": null,
   "outputs": [],
   "source": [],
   "metadata": {
    "collapsed": false,
    "pycharm": {
     "name": "#%%\n"
    }
   }
  }
 ],
 "metadata": {
  "kernelspec": {
   "display_name": "Python 3",
   "language": "python",
   "name": "python3"
  },
  "language_info": {
   "codemirror_mode": {
    "name": "ipython",
    "version": 2
   },
   "file_extension": ".py",
   "mimetype": "text/x-python",
   "name": "python",
   "nbconvert_exporter": "python",
   "pygments_lexer": "ipython2",
   "version": "2.7.6"
  }
 },
 "nbformat": 4,
 "nbformat_minor": 0
}