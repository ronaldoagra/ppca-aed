{
 "cells": [
  {
   "cell_type": "code",
   "execution_count": 15,
   "metadata": {
    "pycharm": {
     "name": "#%%\n"
    }
   },
   "outputs": [],
   "source": [
    "import csv\n",
    "import os\n",
    "from pathlib import Path\n",
    "import re\n",
    "import matplotlib.pyplot as plt\n",
    "import numpy as np"
   ]
  },
  {
   "cell_type": "code",
   "execution_count": 16,
   "metadata": {
    "pycharm": {
     "name": "#%%\n"
    },
    "scrolled": false
   },
   "outputs": [
    {
     "name": "stdout",
     "output_type": "stream",
     "text": [
      "CPSAT - 10 : C:\\Users\\91924456168\\OneDrive - unb.br\\Mestrado\\ppca 2022\\AED\\workspace\\ppca-aed\\data\\output\\resultado-CPSAT-req-10.csv\n",
      "{'Sprint 1': {'valor': 32.0, 'capacidade': 86.0}, 'Sprint 2': {'valor': 92.0, 'capacidade': 177.0}}\n",
      "CPSAT - 100 : C:\\Users\\91924456168\\OneDrive - unb.br\\Mestrado\\ppca 2022\\AED\\workspace\\ppca-aed\\data\\output\\resultado-CPSAT-req-100.csv\n",
      "{'Sprint 1': {'valor': 23.0, 'capacidade': 73.0}, 'Sprint 2': {'valor': 46.0, 'capacidade': 173.0}, 'Sprint 3': {'valor': 59.0, 'capacidade': 177.0}, 'Sprint 4': {'valor': 71.0, 'capacidade': 166.0}, 'Sprint 5': {'valor': 43.0, 'capacidade': 179.0}, 'Sprint 6': {'valor': 62.0, 'capacidade': 180.0}, 'Sprint 7': {'valor': 73.0, 'capacidade': 179.0}, 'Sprint 8': {'valor': 56.0, 'capacidade': 180.0}, 'Sprint 9': {'valor': 28.0, 'capacidade': 175.0}, 'Sprint 10': {'valor': 78.0, 'capacidade': 173.0}, 'Sprint 11': {'valor': 78.0, 'capacidade': 173.0}, 'Sprint 12': {'valor': 102.0, 'capacidade': 179.0}, 'Sprint 13': {'valor': 107.0, 'capacidade': 179.0}, 'Sprint 14': {'valor': 57.0, 'capacidade': 176.0}, 'Sprint 15': {'valor': 76.0, 'capacidade': 180.0}}\n",
      "CPSAT - 200 : C:\\Users\\91924456168\\OneDrive - unb.br\\Mestrado\\ppca 2022\\AED\\workspace\\ppca-aed\\data\\output\\resultado-CPSAT-req-200.csv\n",
      "{'Sprint 1': {'valor': 39.0, 'capacidade': 98.0}, 'Sprint 2': {'valor': 69.0, 'capacidade': 171.0}, 'Sprint 3': {'valor': 107.0, 'capacidade': 179.0}, 'Sprint 4': {'valor': 74.0, 'capacidade': 171.0}, 'Sprint 5': {'valor': 57.0, 'capacidade': 180.0}, 'Sprint 6': {'valor': 68.0, 'capacidade': 180.0}, 'Sprint 7': {'valor': 63.0, 'capacidade': 176.0}, 'Sprint 8': {'valor': 62.0, 'capacidade': 177.0}, 'Sprint 9': {'valor': 62.0, 'capacidade': 180.0}, 'Sprint 10': {'valor': 68.0, 'capacidade': 177.0}, 'Sprint 11': {'valor': 74.0, 'capacidade': 172.0}, 'Sprint 12': {'valor': 71.0, 'capacidade': 179.0}, 'Sprint 13': {'valor': 56.0, 'capacidade': 172.0}, 'Sprint 14': {'valor': 72.0, 'capacidade': 180.0}, 'Sprint 15': {'valor': 89.0, 'capacidade': 174.0}, 'Sprint 16': {'valor': 31.0, 'capacidade': 180.0}, 'Sprint 17': {'valor': 42.0, 'capacidade': 180.0}, 'Sprint 18': {'valor': 93.0, 'capacidade': 180.0}, 'Sprint 19': {'valor': 70.0, 'capacidade': 180.0}, 'Sprint 20': {'valor': 58.0, 'capacidade': 179.0}, 'Sprint 21': {'valor': 71.0, 'capacidade': 174.0}, 'Sprint 22': {'valor': 69.0, 'capacidade': 179.0}, 'Sprint 23': {'valor': 46.0, 'capacidade': 175.0}, 'Sprint 24': {'valor': 106.0, 'capacidade': 179.0}, 'Sprint 25': {'valor': 76.0, 'capacidade': 177.0}, 'Sprint 26': {'valor': 68.0, 'capacidade': 178.0}, 'Sprint 27': {'valor': 54.0, 'capacidade': 180.0}, 'Sprint 28': {'valor': 75.0, 'capacidade': 178.0}}\n",
      "CPSAT - 30 : C:\\Users\\91924456168\\OneDrive - unb.br\\Mestrado\\ppca 2022\\AED\\workspace\\ppca-aed\\data\\output\\resultado-CPSAT-req-30.csv\n",
      "{'Sprint 1': {'valor': 39.0, 'capacidade': 110.0}, 'Sprint 2': {'valor': 85.0, 'capacidade': 179.0}, 'Sprint 3': {'valor': 86.0, 'capacidade': 176.0}, 'Sprint 4': {'valor': 87.0, 'capacidade': 178.0}}\n",
      "CPSAT - 300 : C:\\Users\\91924456168\\OneDrive - unb.br\\Mestrado\\ppca 2022\\AED\\workspace\\ppca-aed\\data\\output\\resultado-CPSAT-req-300.csv\n",
      "{'Sprint 1': {'valor': 45.0, 'capacidade': 177.0}, 'Sprint 2': {'valor': 90.0, 'capacidade': 179.0}, 'Sprint 3': {'valor': 76.0, 'capacidade': 174.0}, 'Sprint 4': {'valor': 64.0, 'capacidade': 179.0}, 'Sprint 5': {'valor': 62.0, 'capacidade': 180.0}, 'Sprint 6': {'valor': 72.0, 'capacidade': 173.0}, 'Sprint 7': {'valor': 88.0, 'capacidade': 179.0}, 'Sprint 8': {'valor': 68.0, 'capacidade': 180.0}, 'Sprint 9': {'valor': 77.0, 'capacidade': 178.0}, 'Sprint 10': {'valor': 83.0, 'capacidade': 179.0}, 'Sprint 11': {'valor': 64.0, 'capacidade': 180.0}, 'Sprint 12': {'valor': 57.0, 'capacidade': 180.0}, 'Sprint 13': {'valor': 79.0, 'capacidade': 180.0}, 'Sprint 14': {'valor': 58.0, 'capacidade': 179.0}, 'Sprint 15': {'valor': 60.0, 'capacidade': 176.0}, 'Sprint 16': {'valor': 44.0, 'capacidade': 180.0}, 'Sprint 17': {'valor': 75.0, 'capacidade': 178.0}, 'Sprint 18': {'valor': 61.0, 'capacidade': 178.0}, 'Sprint 19': {'valor': 68.0, 'capacidade': 177.0}, 'Sprint 20': {'valor': 88.0, 'capacidade': 180.0}, 'Sprint 21': {'valor': 79.0, 'capacidade': 179.0}, 'Sprint 22': {'valor': 58.0, 'capacidade': 170.0}, 'Sprint 23': {'valor': 49.0, 'capacidade': 174.0}, 'Sprint 24': {'valor': 64.0, 'capacidade': 178.0}, 'Sprint 25': {'valor': 120.0, 'capacidade': 179.0}, 'Sprint 26': {'valor': 59.0, 'capacidade': 177.0}, 'Sprint 27': {'valor': 81.0, 'capacidade': 179.0}, 'Sprint 28': {'valor': 59.0, 'capacidade': 178.0}, 'Sprint 29': {'valor': 69.0, 'capacidade': 180.0}, 'Sprint 30': {'valor': 78.0, 'capacidade': 180.0}, 'Sprint 31': {'valor': 52.0, 'capacidade': 177.0}, 'Sprint 32': {'valor': 57.0, 'capacidade': 174.0}, 'Sprint 33': {'valor': 79.0, 'capacidade': 177.0}, 'Sprint 34': {'valor': 92.0, 'capacidade': 179.0}, 'Sprint 35': {'valor': 80.0, 'capacidade': 177.0}, 'Sprint 36': {'valor': 73.0, 'capacidade': 179.0}, 'Sprint 37': {'valor': 72.0, 'capacidade': 180.0}, 'Sprint 38': {'valor': 77.0, 'capacidade': 178.0}, 'Sprint 39': {'valor': 109.0, 'capacidade': 180.0}, 'Sprint 40': {'valor': 87.0, 'capacidade': 180.0}}\n",
      "CPSAT - 400 : C:\\Users\\91924456168\\OneDrive - unb.br\\Mestrado\\ppca 2022\\AED\\workspace\\ppca-aed\\data\\output\\resultado-CPSAT-req-400.csv\n",
      "{'Sprint 1': {'valor': 73.0, 'capacidade': 152.0}, 'Sprint 2': {'valor': 43.0, 'capacidade': 178.0}, 'Sprint 3': {'valor': 71.0, 'capacidade': 179.0}, 'Sprint 4': {'valor': 87.0, 'capacidade': 178.0}, 'Sprint 5': {'valor': 67.0, 'capacidade': 180.0}, 'Sprint 6': {'valor': 44.0, 'capacidade': 180.0}, 'Sprint 7': {'valor': 89.0, 'capacidade': 178.0}, 'Sprint 8': {'valor': 36.0, 'capacidade': 172.0}, 'Sprint 9': {'valor': 81.0, 'capacidade': 180.0}, 'Sprint 10': {'valor': 43.0, 'capacidade': 172.0}, 'Sprint 11': {'valor': 54.0, 'capacidade': 174.0}, 'Sprint 12': {'valor': 48.0, 'capacidade': 179.0}, 'Sprint 13': {'valor': 84.0, 'capacidade': 176.0}, 'Sprint 14': {'valor': 63.0, 'capacidade': 175.0}, 'Sprint 15': {'valor': 94.0, 'capacidade': 178.0}, 'Sprint 16': {'valor': 66.0, 'capacidade': 179.0}, 'Sprint 17': {'valor': 61.0, 'capacidade': 173.0}, 'Sprint 18': {'valor': 54.0, 'capacidade': 179.0}, 'Sprint 19': {'valor': 83.0, 'capacidade': 180.0}, 'Sprint 20': {'valor': 75.0, 'capacidade': 179.0}, 'Sprint 21': {'valor': 58.0, 'capacidade': 177.0}, 'Sprint 22': {'valor': 52.0, 'capacidade': 179.0}, 'Sprint 23': {'valor': 91.0, 'capacidade': 173.0}, 'Sprint 24': {'valor': 68.0, 'capacidade': 179.0}, 'Sprint 25': {'valor': 68.0, 'capacidade': 179.0}, 'Sprint 26': {'valor': 83.0, 'capacidade': 174.0}, 'Sprint 27': {'valor': 40.0, 'capacidade': 180.0}, 'Sprint 28': {'valor': 58.0, 'capacidade': 174.0}, 'Sprint 29': {'valor': 72.0, 'capacidade': 178.0}, 'Sprint 30': {'valor': 74.0, 'capacidade': 179.0}, 'Sprint 31': {'valor': 57.0, 'capacidade': 176.0}, 'Sprint 32': {'valor': 97.0, 'capacidade': 180.0}, 'Sprint 33': {'valor': 94.0, 'capacidade': 179.0}, 'Sprint 34': {'valor': 77.0, 'capacidade': 174.0}, 'Sprint 35': {'valor': 57.0, 'capacidade': 173.0}, 'Sprint 36': {'valor': 70.0, 'capacidade': 179.0}, 'Sprint 37': {'valor': 45.0, 'capacidade': 180.0}, 'Sprint 38': {'valor': 47.0, 'capacidade': 180.0}, 'Sprint 39': {'valor': 63.0, 'capacidade': 176.0}, 'Sprint 40': {'valor': 67.0, 'capacidade': 179.0}, 'Sprint 41': {'valor': 45.0, 'capacidade': 174.0}, 'Sprint 42': {'valor': 62.0, 'capacidade': 176.0}, 'Sprint 43': {'valor': 73.0, 'capacidade': 180.0}, 'Sprint 44': {'valor': 92.0, 'capacidade': 180.0}, 'Sprint 45': {'valor': 78.0, 'capacidade': 179.0}, 'Sprint 46': {'valor': 70.0, 'capacidade': 176.0}, 'Sprint 47': {'valor': 67.0, 'capacidade': 176.0}, 'Sprint 48': {'valor': 92.0, 'capacidade': 178.0}, 'Sprint 49': {'valor': 103.0, 'capacidade': 176.0}, 'Sprint 50': {'valor': 77.0, 'capacidade': 180.0}, 'Sprint 51': {'valor': 59.0, 'capacidade': 180.0}, 'Sprint 52': {'valor': 49.0, 'capacidade': 179.0}, 'Sprint 53': {'valor': 80.0, 'capacidade': 176.0}, 'Sprint 54': {'valor': 79.0, 'capacidade': 180.0}, 'Sprint 55': {'valor': 67.0, 'capacidade': 180.0}}\n",
      "CPSAT - 50 : C:\\Users\\91924456168\\OneDrive - unb.br\\Mestrado\\ppca 2022\\AED\\workspace\\ppca-aed\\data\\output\\resultado-CPSAT-req-50.csv\n",
      "{'Sprint 1': {'valor': 55.0, 'capacidade': 117.0}, 'Sprint 2': {'valor': 68.0, 'capacidade': 131.0}, 'Sprint 3': {'valor': 71.0, 'capacidade': 175.0}, 'Sprint 4': {'valor': 70.0, 'capacidade': 171.0}, 'Sprint 5': {'valor': 86.0, 'capacidade': 178.0}, 'Sprint 6': {'valor': 42.0, 'capacidade': 171.0}, 'Sprint 7': {'valor': 70.0, 'capacidade': 177.0}, 'Sprint 8': {'valor': 75.0, 'capacidade': 179.0}}\n",
      "CPSAT - 70 : C:\\Users\\91924456168\\OneDrive - unb.br\\Mestrado\\ppca 2022\\AED\\workspace\\ppca-aed\\data\\output\\resultado-CPSAT-req-70.csv\n",
      "{'Sprint 1': {'valor': 74.0, 'capacidade': 172.0}, 'Sprint 2': {'valor': 78.0, 'capacidade': 172.0}, 'Sprint 3': {'valor': 60.0, 'capacidade': 173.0}, 'Sprint 4': {'valor': 87.0, 'capacidade': 176.0}, 'Sprint 5': {'valor': 93.0, 'capacidade': 177.0}, 'Sprint 6': {'valor': 67.0, 'capacidade': 175.0}, 'Sprint 7': {'valor': 78.0, 'capacidade': 177.0}, 'Sprint 8': {'valor': 60.0, 'capacidade': 179.0}, 'Sprint 9': {'valor': 57.0, 'capacidade': 176.0}}\n",
      "MIP - 10 : C:\\Users\\91924456168\\OneDrive - unb.br\\Mestrado\\ppca 2022\\AED\\workspace\\ppca-aed\\data\\output\\resultado-MIP-req-10.csv\n",
      "{'Sprint 1': {'valor': 91.0, 'capacidade': 179.0}, 'Sprint 2': {'valor': 33.0, 'capacidade': 84.0}}\n",
      "MIP - 100 : C:\\Users\\91924456168\\OneDrive - unb.br\\Mestrado\\ppca 2022\\AED\\workspace\\ppca-aed\\data\\output\\resultado-MIP-req-100.csv\n",
      "{'Sprint 1': {'valor': 56.0, 'capacidade': 180.0}, 'Sprint 2': {'valor': 46.0, 'capacidade': 180.0}, 'Sprint 3': {'valor': 68.0, 'capacidade': 179.0}, 'Sprint 4': {'valor': 72.0, 'capacidade': 178.0}, 'Sprint 5': {'valor': 64.0, 'capacidade': 180.0}, 'Sprint 6': {'valor': 48.0, 'capacidade': 176.0}, 'Sprint 7': {'valor': 76.0, 'capacidade': 175.0}, 'Sprint 8': {'valor': 53.0, 'capacidade': 176.0}, 'Sprint 9': {'valor': 46.0, 'capacidade': 172.0}, 'Sprint 10': {'valor': 72.0, 'capacidade': 178.0}, 'Sprint 11': {'valor': 84.0, 'capacidade': 180.0}, 'Sprint 12': {'valor': 111.0, 'capacidade': 180.0}, 'Sprint 13': {'valor': 59.0, 'capacidade': 170.0}, 'Sprint 14': {'valor': 78.0, 'capacidade': 176.0}, 'Sprint 15': {'valor': 26.0, 'capacidade': 62.0}}\n",
      "MIP - 200 : C:\\Users\\91924456168\\OneDrive - unb.br\\Mestrado\\ppca 2022\\AED\\workspace\\ppca-aed\\data\\output\\resultado-MIP-req-200.csv\n",
      "{'Sprint 1': {'valor': 77.0, 'capacidade': 180.0}, 'Sprint 2': {'valor': 83.0, 'capacidade': 180.0}, 'Sprint 3': {'valor': 88.0, 'capacidade': 178.0}, 'Sprint 4': {'valor': 74.0, 'capacidade': 179.0}, 'Sprint 5': {'valor': 70.0, 'capacidade': 177.0}, 'Sprint 6': {'valor': 65.0, 'capacidade': 176.0}, 'Sprint 7': {'valor': 68.0, 'capacidade': 173.0}, 'Sprint 8': {'valor': 76.0, 'capacidade': 180.0}, 'Sprint 9': {'valor': 55.0, 'capacidade': 180.0}, 'Sprint 10': {'valor': 64.0, 'capacidade': 179.0}, 'Sprint 11': {'valor': 84.0, 'capacidade': 178.0}, 'Sprint 12': {'valor': 45.0, 'capacidade': 176.0}, 'Sprint 13': {'valor': 85.0, 'capacidade': 180.0}, 'Sprint 14': {'valor': 68.0, 'capacidade': 179.0}, 'Sprint 15': {'valor': 56.0, 'capacidade': 180.0}, 'Sprint 16': {'valor': 40.0, 'capacidade': 179.0}, 'Sprint 17': {'valor': 66.0, 'capacidade': 180.0}, 'Sprint 18': {'valor': 91.0, 'capacidade': 175.0}, 'Sprint 19': {'valor': 78.0, 'capacidade': 180.0}, 'Sprint 20': {'valor': 53.0, 'capacidade': 177.0}, 'Sprint 21': {'valor': 72.0, 'capacidade': 179.0}, 'Sprint 22': {'valor': 42.0, 'capacidade': 180.0}, 'Sprint 23': {'valor': 81.0, 'capacidade': 180.0}, 'Sprint 24': {'valor': 84.0, 'capacidade': 174.0}, 'Sprint 25': {'valor': 83.0, 'capacidade': 174.0}, 'Sprint 26': {'valor': 57.0, 'capacidade': 170.0}, 'Sprint 27': {'valor': 51.0, 'capacidade': 172.0}, 'Sprint 28': {'valor': 34.0, 'capacidade': 90.0}}\n",
      "MIP - 30 : C:\\Users\\91924456168\\OneDrive - unb.br\\Mestrado\\ppca 2022\\AED\\workspace\\ppca-aed\\data\\output\\resultado-MIP-req-30.csv\n",
      "{'Sprint 1': {'valor': 70.0, 'capacidade': 180.0}, 'Sprint 2': {'valor': 84.0, 'capacidade': 173.0}, 'Sprint 3': {'valor': 88.0, 'capacidade': 175.0}, 'Sprint 4': {'valor': 55.0, 'capacidade': 115.0}}\n",
      "MIP - 300 : C:\\Users\\91924456168\\OneDrive - unb.br\\Mestrado\\ppca 2022\\AED\\workspace\\ppca-aed\\data\\output\\resultado-MIP-req-300.csv\n",
      "{'Sprint 1': {'valor': 46.0, 'capacidade': 177.0}, 'Sprint 2': {'valor': 55.0, 'capacidade': 179.0}, 'Sprint 3': {'valor': 62.0, 'capacidade': 174.0}, 'Sprint 4': {'valor': 89.0, 'capacidade': 180.0}, 'Sprint 5': {'valor': 76.0, 'capacidade': 180.0}, 'Sprint 6': {'valor': 59.0, 'capacidade': 176.0}, 'Sprint 7': {'valor': 74.0, 'capacidade': 178.0}, 'Sprint 8': {'valor': 91.0, 'capacidade': 180.0}, 'Sprint 9': {'valor': 59.0, 'capacidade': 176.0}, 'Sprint 10': {'valor': 88.0, 'capacidade': 178.0}, 'Sprint 11': {'valor': 45.0, 'capacidade': 178.0}, 'Sprint 12': {'valor': 80.0, 'capacidade': 179.0}, 'Sprint 13': {'valor': 69.0, 'capacidade': 179.0}, 'Sprint 14': {'valor': 57.0, 'capacidade': 179.0}, 'Sprint 15': {'valor': 164.0, 'capacidade': 180.0}, 'Sprint 16': {'valor': 71.0, 'capacidade': 180.0}, 'Sprint 17': {'valor': 80.0, 'capacidade': 180.0}, 'Sprint 18': {'valor': 37.0, 'capacidade': 175.0}, 'Sprint 19': {'valor': 96.0, 'capacidade': 180.0}, 'Sprint 20': {'valor': 89.0, 'capacidade': 179.0}, 'Sprint 21': {'valor': 76.0, 'capacidade': 180.0}, 'Sprint 22': {'valor': 67.0, 'capacidade': 180.0}, 'Sprint 23': {'valor': 76.0, 'capacidade': 179.0}, 'Sprint 24': {'valor': 86.0, 'capacidade': 179.0}, 'Sprint 25': {'valor': 37.0, 'capacidade': 179.0}, 'Sprint 26': {'valor': 111.0, 'capacidade': 177.0}, 'Sprint 27': {'valor': 55.0, 'capacidade': 180.0}, 'Sprint 28': {'valor': 92.0, 'capacidade': 180.0}, 'Sprint 29': {'valor': 63.0, 'capacidade': 178.0}, 'Sprint 30': {'valor': 75.0, 'capacidade': 180.0}, 'Sprint 31': {'valor': 75.0, 'capacidade': 176.0}, 'Sprint 32': {'valor': 69.0, 'capacidade': 179.0}, 'Sprint 33': {'valor': 42.0, 'capacidade': 174.0}, 'Sprint 34': {'valor': 60.0, 'capacidade': 177.0}, 'Sprint 35': {'valor': 78.0, 'capacidade': 179.0}, 'Sprint 36': {'valor': 84.0, 'capacidade': 175.0}, 'Sprint 37': {'valor': 60.0, 'capacidade': 173.0}, 'Sprint 38': {'valor': 38.0, 'capacidade': 172.0}, 'Sprint 39': {'valor': 85.0, 'capacidade': 179.0}, 'Sprint 40': {'valor': 57.0, 'capacidade': 178.0}}\n",
      "MIP - 400 : C:\\Users\\91924456168\\OneDrive - unb.br\\Mestrado\\ppca 2022\\AED\\workspace\\ppca-aed\\data\\output\\resultado-MIP-req-400.csv\n",
      "{'Sprint 1': {'valor': 61.0, 'capacidade': 177.0}, 'Sprint 2': {'valor': 73.0, 'capacidade': 180.0}, 'Sprint 3': {'valor': 87.0, 'capacidade': 173.0}, 'Sprint 4': {'valor': 93.0, 'capacidade': 179.0}, 'Sprint 5': {'valor': 65.0, 'capacidade': 178.0}, 'Sprint 6': {'valor': 64.0, 'capacidade': 174.0}, 'Sprint 7': {'valor': 64.0, 'capacidade': 179.0}, 'Sprint 8': {'valor': 45.0, 'capacidade': 171.0}, 'Sprint 9': {'valor': 59.0, 'capacidade': 178.0}, 'Sprint 10': {'valor': 36.0, 'capacidade': 177.0}, 'Sprint 11': {'valor': 74.0, 'capacidade': 176.0}, 'Sprint 12': {'valor': 65.0, 'capacidade': 180.0}, 'Sprint 13': {'valor': 67.0, 'capacidade': 180.0}, 'Sprint 14': {'valor': 64.0, 'capacidade': 180.0}, 'Sprint 15': {'valor': 132.0, 'capacidade': 173.0}, 'Sprint 16': {'valor': 79.0, 'capacidade': 175.0}, 'Sprint 17': {'valor': 90.0, 'capacidade': 177.0}, 'Sprint 18': {'valor': 48.0, 'capacidade': 177.0}, 'Sprint 19': {'valor': 64.0, 'capacidade': 175.0}, 'Sprint 20': {'valor': 47.0, 'capacidade': 177.0}, 'Sprint 21': {'valor': 61.0, 'capacidade': 179.0}, 'Sprint 22': {'valor': 43.0, 'capacidade': 176.0}, 'Sprint 23': {'valor': 63.0, 'capacidade': 180.0}, 'Sprint 24': {'valor': 64.0, 'capacidade': 180.0}, 'Sprint 25': {'valor': 76.0, 'capacidade': 177.0}, 'Sprint 26': {'valor': 72.0, 'capacidade': 180.0}, 'Sprint 27': {'valor': 71.0, 'capacidade': 179.0}, 'Sprint 28': {'valor': 91.0, 'capacidade': 179.0}, 'Sprint 29': {'valor': 77.0, 'capacidade': 174.0}, 'Sprint 30': {'valor': 56.0, 'capacidade': 176.0}, 'Sprint 31': {'valor': 62.0, 'capacidade': 175.0}, 'Sprint 32': {'valor': 72.0, 'capacidade': 179.0}, 'Sprint 33': {'valor': 58.0, 'capacidade': 180.0}, 'Sprint 34': {'valor': 53.0, 'capacidade': 175.0}, 'Sprint 35': {'valor': 74.0, 'capacidade': 180.0}, 'Sprint 36': {'valor': 61.0, 'capacidade': 174.0}, 'Sprint 37': {'valor': 67.0, 'capacidade': 178.0}, 'Sprint 38': {'valor': 66.0, 'capacidade': 177.0}, 'Sprint 39': {'valor': 64.0, 'capacidade': 179.0}, 'Sprint 40': {'valor': 89.0, 'capacidade': 178.0}, 'Sprint 41': {'valor': 88.0, 'capacidade': 177.0}, 'Sprint 42': {'valor': 60.0, 'capacidade': 179.0}, 'Sprint 43': {'valor': 104.0, 'capacidade': 177.0}, 'Sprint 44': {'valor': 47.0, 'capacidade': 176.0}, 'Sprint 45': {'valor': 69.0, 'capacidade': 178.0}, 'Sprint 46': {'valor': 60.0, 'capacidade': 178.0}, 'Sprint 47': {'valor': 71.0, 'capacidade': 174.0}, 'Sprint 48': {'valor': 46.0, 'capacidade': 176.0}, 'Sprint 49': {'valor': 38.0, 'capacidade': 180.0}, 'Sprint 50': {'valor': 67.0, 'capacidade': 177.0}, 'Sprint 51': {'valor': 108.0, 'capacidade': 176.0}, 'Sprint 52': {'valor': 72.0, 'capacidade': 174.0}, 'Sprint 53': {'valor': 49.0, 'capacidade': 175.0}, 'Sprint 54': {'valor': 79.0, 'capacidade': 173.0}, 'Sprint 55': {'valor': 72.0, 'capacidade': 178.0}}\n",
      "MIP - 50 : C:\\Users\\91924456168\\OneDrive - unb.br\\Mestrado\\ppca 2022\\AED\\workspace\\ppca-aed\\data\\output\\resultado-MIP-req-50.csv\n",
      "{'Sprint 1': {'valor': 91.0, 'capacidade': 172.0}, 'Sprint 2': {'valor': 84.0, 'capacidade': 174.0}, 'Sprint 3': {'valor': 79.0, 'capacidade': 180.0}, 'Sprint 4': {'valor': 100.0, 'capacidade': 176.0}, 'Sprint 5': {'valor': 65.0, 'capacidade': 180.0}, 'Sprint 6': {'valor': 46.0, 'capacidade': 176.0}, 'Sprint 7': {'valor': 59.0, 'capacidade': 180.0}, 'Sprint 8': {'valor': 13.0, 'capacidade': 61.0}}\n",
      "MIP - 70 : C:\\Users\\91924456168\\OneDrive - unb.br\\Mestrado\\ppca 2022\\AED\\workspace\\ppca-aed\\data\\output\\resultado-MIP-req-70.csv\n",
      "{'Sprint 1': {'valor': 81.0, 'capacidade': 180.0}, 'Sprint 2': {'valor': 103.0, 'capacidade': 180.0}, 'Sprint 3': {'valor': 69.0, 'capacidade': 173.0}, 'Sprint 4': {'valor': 63.0, 'capacidade': 179.0}, 'Sprint 5': {'valor': 75.0, 'capacidade': 176.0}, 'Sprint 6': {'valor': 97.0, 'capacidade': 177.0}, 'Sprint 7': {'valor': 73.0, 'capacidade': 174.0}, 'Sprint 8': {'valor': 41.0, 'capacidade': 178.0}, 'Sprint 9': {'valor': 52.0, 'capacidade': 160.0}}\n",
      "Sprints por cenário:  {'10': {'MIP': 2, 'CPSAT': 2}, '100': {'MIP': 15, 'CPSAT': 15}, '200': {'MIP': 28, 'CPSAT': 28}, '30': {'MIP': 4, 'CPSAT': 4}, '300': {'MIP': 40, 'CPSAT': 40}, '400': {'MIP': 55, 'CPSAT': 55}, '50': {'MIP': 8, 'CPSAT': 8}, '70': {'MIP': 9, 'CPSAT': 9}}\n"
     ]
    }
   ],
   "source": [
    "############## ARQUIVO INCOMPLETO - A FINALIZAR\n",
    "\n",
    "# recupera o caminho completo do diretório de dados de resultado\n",
    "dir_dados_resultados = str(Path(os.getcwd()).parents[0]) + '\\data\\output'\n",
    "\n",
    "# Apresenta o número de sprints gerador por cada cenário\n",
    "sprint_por_cenario = {}\n",
    "\n",
    "# percorre cada arquivo presente no diretório de dados de entrada\n",
    "for arquivo_resultado in Path(dir_dados_resultados).iterdir():\n",
    "\n",
    "    if not (arquivo_resultado.is_file() and arquivo_resultado.suffix == '.csv'):\n",
    "        continue\n",
    "\n",
    "    algoritmo = 'MIP' if str(arquivo_resultado).find('MIP') != -1 else 'CPSAT'\n",
    "\n",
    "    try:\n",
    "        qtd_requisitos = re.search('req-(.+?)\\\\.csv', str(arquivo_resultado)).group(1)\n",
    "    except AttributeError:\n",
    "        qtd_requisitos = ''\n",
    "\n",
    "    print(algoritmo, '-', qtd_requisitos, ':', arquivo_resultado)\n",
    "\n",
    "    # lista que armazenará os dados de cada arquivo\n",
    "    resultados = {}\n",
    "    valores = []\n",
    "    pesos = []\n",
    "\n",
    "    # Inicializa a quantidade de sprints por cenário a cada novo cenário\n",
    "    if sprint_por_cenario.get(qtd_requisitos) is None:\n",
    "        sprint_por_cenario[qtd_requisitos] = {'MIP': [], 'CPSAT': []}\n",
    "\n",
    "    if arquivo_resultado.is_file() and arquivo_resultado.suffix == '.csv':\n",
    "        # faz a leitura do CSV\n",
    "        with open(arquivo_resultado, newline='') as csvfile:\n",
    "            leitor = csv.DictReader(csvfile)\n",
    "            valor_capacidade = {}\n",
    "\n",
    "            for linha in leitor:\n",
    "\n",
    "                # sprint,requisito,valor_req,peso_req\n",
    "                sprint = linha['sprint']\n",
    "                valor = float(linha['valor_req'])\n",
    "                peso = float(linha['peso_req'])\n",
    "\n",
    "                valor_capacidade = resultados.get(sprint)\n",
    "\n",
    "                # primeira vez da análise da sprint, cria a chave e insere o valor (valor e peso do requisito)\n",
    "                if valor_capacidade is None:\n",
    "                    valor_capacidade = {'valor': 0, 'capacidade': 0}\n",
    "\n",
    "                # Adiciona um sprint ao controle de sprints por cenário, caso não tenha sido adicionado\n",
    "                lst = sprint_por_cenario[qtd_requisitos][algoritmo]\n",
    "                if not lst.__contains__(sprint):\n",
    "                    lst.append(sprint)\n",
    "\n",
    "                valor_capacidade['valor'] += float(linha['valor_req'])\n",
    "                valor_capacidade['capacidade'] += float(linha['peso_req'])\n",
    "                resultados[sprint] = valor_capacidade\n",
    "\n",
    "            print(resultados)\n",
    "           # print(sprint_por_cenario)\n",
    "            sprint_por_cenario[qtd_requisitos][algoritmo] = len(sprint_por_cenario[qtd_requisitos][algoritmo])\n",
    "\n",
    "print(\"Sprints por cenário: \",sprint_por_cenario)\n",
    "# imprime_resultados_csv(algoritmo, qtd_requisitos, resultados)"
   ]
  },
  {
   "cell_type": "markdown",
   "metadata": {},
   "source": [
    "# Sprint por cenário"
   ]
  },
  {
   "cell_type": "code",
   "execution_count": 17,
   "metadata": {
    "pycharm": {
     "name": "#%%\n"
    }
   },
   "outputs": [
    {
     "name": "stdout",
     "output_type": "stream",
     "text": [
      "[10, 30, 50, 70, 100, 200, 300, 400]\n",
      "[2, 4, 8, 9, 15, 28, 40, 55]\n",
      "[2, 4, 8, 9, 15, 28, 40, 55]\n"
     ]
    },
    {
     "data": {
      "image/png": "[encoded data removed]",
      "text/plain": [
       "<Figure size 640x480 with 1 Axes>"
      ]
     },
     "metadata": {},
     "output_type": "display_data"
    }
   ],
   "source": [
    "\n",
    "\n",
    "barra_mip = []\n",
    "barra_cpsat = []\n",
    "\n",
    "# set width of bars\n",
    "barWidth = 0.25\n",
    "\n",
    "chaves = sprint_por_cenario.keys()\n",
    "list1 = [int(x) for x in chaves]\n",
    "list1.sort()\n",
    "print(list1)\n",
    "for cenario in list1:\n",
    "    barra_mip.append(sprint_por_cenario[str(cenario)]['MIP'])\n",
    "    barra_cpsat.append(sprint_por_cenario[str(cenario)]['CPSAT'])\n",
    "print(barra_mip)\n",
    "print(barra_cpsat)\n",
    "\n",
    "# Set position of bar on X axis\n",
    "br1 = np.arange(len(barra_mip))\n",
    "br2 = [x + barWidth for x in br1]\n",
    "\n",
    "# Make the plot\n",
    "plt.bar(br1, barra_mip, color='r', width=barWidth, edgecolor='grey', label='MIP')\n",
    "plt.bar(br2, barra_cpsat, color='g', width=barWidth, edgecolor='grey', label='CPSAT')\n",
    "\n",
    "# Adding Xticks\n",
    "plt.xlabel('Cenário', fontweight='bold', fontsize=15)\n",
    "plt.ylabel('#Sprint', fontweight='bold', fontsize=15)\n",
    "plt.xticks([r + barWidth for r in range(len(list1))], list1)\n",
    "\n",
    "plt.legend()\n",
    "plt.show()"
   ]
  },
  {
   "cell_type": "code",
   "execution_count": null,
   "metadata": {},
   "outputs": [],
   "source": []
  }
 ],
 "metadata": {
  "kernelspec": {
   "display_name": "Python 3 (ipykernel)",
   "language": "python",
   "name": "python3"
  },
  "language_info": {
   "codemirror_mode": {
    "name": "ipython",
    "version": 3
   },
   "file_extension": ".py",
   "mimetype": "text/x-python",
   "name": "python",
   "nbconvert_exporter": "python",
   "pygments_lexer": "ipython3",
   "version": "3.10.4"
  }
 },
 "nbformat": 4,
 "nbformat_minor": 1
}
