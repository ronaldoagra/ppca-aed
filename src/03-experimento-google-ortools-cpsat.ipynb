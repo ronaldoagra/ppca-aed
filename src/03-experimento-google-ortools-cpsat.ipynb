{
 "cells": [
  {
   "cell_type": "markdown",
   "source": [
    "### Experimento múltiplas mochilas baseado no método CP-SAT\n",
    "\n",
    "Neste experimento, resolvemos o problema das múltiplas mochilas utilizando o método CP-SAT na otimização da alocação de requisitos em sprints. No nosso contexto, as mochilas são sprints de uma equipe de desenvolvimento de software, e o sitens são os requisitos a serem implementados.\n",
    "\n",
    "**Pré-requisitos:** para a execução deste notebook, são necessários os seguintes pré-requisitos\n",
    "\n",
    "* ter instalado na máquina de execução o pacote Google OR Tools. Caso você não o tenha disponível na máquina, deve instalá-lo em seu ambiente de desenvolvimento. Para isso, digite **python -m pip install --upgrade --user ortools** em seu terminal ou prompt de comandos. Para mais informações, veja em: https://developers.google.com/optimization/install\n",
    "* execução prévia do arquivo \"01-geracao-dados.ipynb\", disponível neste mesmo repositório. Este notebook gera os dados necessários ao experimento. Assim, este notebook espera a existência dos arquivos \"*valores-pesos-req-N.csv*\", onde N pode ser [10, 30, 50, 70, 100, 200, 300, 400, 500], no diretório \"*data/input/*\".\n",
    "\n",
    "**Etapas implementadas:** este notebook está dividido em 4 blocos, sendo eles:\n",
    "1. importação dos pacotes e bibliotecas necessárias à execução;\n",
    "2. definição da função que realiza a otimização da alocação dos requisitos em sprints;\n",
    "3. definição da função que grava os dados da solução em arquivo CSV;\n",
    "4. execução propriamente dita da otimização, a partir de dados gerados previamente.\n",
    "    4.1. carregamento dos dados de entradada, a partir de arquivos gerados previamente;\n",
    "    4.2. para cada conjunto de dados (cada arquivo), é executada a otimização da alocação dos requisitos em sprints;\n",
    "    4.3. salvamento dos resultados de cada conjunto de dados em arquivos no disco.\n",
    "\n",
    "**Resultados esperados**: como resultado esperado deste notebook, serão gerados 9 arquivos no diretório \"*data/output/*\", cada um contendo a alocação de um conjunto de requisitos em sprints. O formato dos nomes dos arquivos é \"*resultado-CPSAT-req-N.csv*\", onde N pode ser [10, 30, 50, 70, 100, 200, 300, 400, 500]."
   ],
   "metadata": {
    "collapsed": false,
    "pycharm": {
     "name": "#%% md\n"
    }
   }
  },
  {
   "cell_type": "code",
   "execution_count": 1,
   "outputs": [],
   "source": [
    "import csv\n",
    "import os\n",
    "import time\n",
    "from ortools.sat.python import cp_model\n",
    "from pathlib import Path"
   ],
   "metadata": {
    "collapsed": false,
    "pycharm": {
     "name": "#%%\n"
    }
   }
  },
  {
   "cell_type": "markdown",
   "source": [
    "### Função para realizar a otimização das sprints.\n",
    "Nesta função, com base nos dados de entrada, bem como nas capacidades total e de cada sprint, é buscada uma solução ótima para a locação dos requisitos.\n",
    "\n",
    "Entende-se por solução ótima a maximização dos valores dos requisitos alocados, respeintando a restrição da capacidade de cada sprint."
   ],
   "metadata": {
    "collapsed": false,
    "pycharm": {
     "name": "#%% md\n"
    }
   }
  },
  {
   "cell_type": "code",
   "execution_count": 2,
   "outputs": [],
   "source": [
    "def otimiza_sprints(dados, cap_sprint, cap_necessaria_backlog):\n",
    "    \"\"\"\n",
    "    Realiza a otimização da alocação dos requiitos nas sprints disponíveis. Para tal, são levados em consideração os seguintes pontos:\n",
    "        * Restrição 1: cada requisito pode ser alocado em no máximo uma sprint.\n",
    "        * Restrição 2: o peso total de uma sprint não pode exceder sua capacidade.\n",
    "        * Objetivo: maximizar o valor total dos requisitos alocados em uma sprint.\n",
    "    :param dados: os dados de entrada utilizados no problema. Trata-se de um objeto dicionário, com formato:\n",
    "                    {\n",
    "                        requisitos: [req_1, ..., req_n],\n",
    "                        valores: [val_1, ..., val_n],\n",
    "                        pesos: [peso_1, ..., peso_n]\n",
    "                     }\n",
    "    :param cap_sprint: a capacidade de cada sprint.\n",
    "    :param cap_necessaria_backlog: a capacidade total necessária para implementar todo o backlog de requisitos.\n",
    "    :return: um objeto dicionário contento o relacionamento entre sprints e requisitos. O dicionário possui o seguinte formato:\n",
    "            {\n",
    "                sprint1: [req1, ..., req_n],\n",
    "                ...,\n",
    "                sprint_n: [req1, ..., req_n]\n",
    "             }\n",
    "    \"\"\"\n",
    "    # dicionário que armazenará as sprints e seus respectivos requisitos\n",
    "    alocacao = {}\n",
    "\n",
    "    # garante que a quantidade de requisitos, pesos e valores são iguais\n",
    "    assert len(dados['requisitos']) == len(dados['valores']) == len(dados['pesos'])\n",
    "    dados['num_requisitos'] = len(dados['requisitos'])\n",
    "\n",
    "    ### O número de sprints necessárias à implementação de todos os requisitos.\n",
    "    # Adiciona o 0.5 para garantir que o arredondamento será para cima, de forma a garantir que haverá\n",
    "    # sprints suficientes para todos os requisitos.\n",
    "    #num_sprints = round((cap_necessaria_backlog / cap_sprint) + 0.5)\n",
    "    num_sprints = round(cap_necessaria_backlog / cap_sprint)\n",
    "\n",
    "    ### Define a capacidade de cada sprint\n",
    "    dados['capacidades_sprints'] = []\n",
    "    for i in range(num_sprints):\n",
    "        dados['capacidades_sprints'].append(cap_sprint)\n",
    "\n",
    "    dados['qtd_sprints'] = num_sprints\n",
    "    dados['todos_requisitos'] = range(dados['num_requisitos'])\n",
    "    dados['todas_sprints'] = range(dados['qtd_sprints'])\n",
    "\n",
    "    ### Cria o solver CP-SAT (https://developers.google.com/optimization/cp/cp_solver), que utiliza a programação de restrições (CP - constraint programming) com base em métodos de satisfatibilidade (SAT) na otimização\n",
    "    modelo = cp_model.CpModel()\n",
    "\n",
    "    ### Este bloco cria variáveis inteiras binárias para o problema.\n",
    "    # Cada x[(r, s)] é uma variável binária (0/1), onde 'r' é um requisito e 's' é uma sprint.\n",
    "    # Na solução, x[(r, s)] será 1 se o requisito 'r' for colocado na sprint 's', e 0 caso contrário.\n",
    "    x = {}\n",
    "    for r in dados['todos_requisitos']:\n",
    "        for s in dados['todas_sprints']:\n",
    "            x[r, s] = modelo.NewBoolVar(f'x_{r}_{s}')\n",
    "\n",
    "    ### Este bloco define as restrições do problema.\n",
    "    ## Restrição 1: cada requisito pode ser alocado em no máximo uma sprint.\n",
    "    # Essa restrição é definida pelo método AddAtMostOne que cada requisito será alocado a apenas 1 sprint\n",
    "    for r in dados['todos_requisitos']:\n",
    "        modelo.AddAtMostOne(x[r, s] for s in dados['todas_sprints'])\n",
    "\n",
    "    ## Restrição 2: O peso total de uma sprint não pode exceder sua capacidade.\n",
    "    # Essa restrição é definida exigindo que a soma dos pesos dos requisitos colocados na sprint 's' seja\n",
    "    # menor ou igual à capacidade da sprint.\n",
    "    for s in dados['todas_sprints']:\n",
    "        modelo.Add(sum(x[r, s] * int(dados['pesos'][r])\n",
    "                      for r in dados['todos_requisitos']) <= dados['capacidades_sprints'][s])\n",
    "\n",
    "    ### Este bloco defina a função objetivo para o problema.\n",
    "    # O objetivo é maximizar o valor total dos requisitos alocados em uma sprint.\n",
    "    # Observe que x[r, s] * dados['valores'][r] (função LinearExpr.Term) adiciona o valor do requisito 'r' ao\n",
    "    # objetivo se o requisito for alocado na sprint 's'.\n",
    "    # Se 'r' não for colocado em nenhuma sprint, seu valor não contribui para o objetivo.\n",
    "    funcao_objetivo = []\n",
    "    for r in dados['todos_requisitos']:\n",
    "        for s in dados['todas_sprints']:\n",
    "            funcao_objetivo.append(\n",
    "                cp_model.LinearExpr.Term(x[r, s], dados['valores'][r]))\n",
    "    modelo.Maximize(cp_model.LinearExpr.Sum(funcao_objetivo))\n",
    "\n",
    "    ### Este bloco invoca e executa o otimizador.\n",
    "    solver = cp_model.CpSolver()\n",
    "    solucao = solver.Solve(modelo)\n",
    "\n",
    "    ### Este bloco monta o objeto de retorno desta função, contendo a solução para o problema.\n",
    "    # Para cada sprint, são listados os requisitos alocados nela.\n",
    "    if solucao == cp_model.OPTIMAL:\n",
    "        for s in dados['todas_sprints']:\n",
    "            id_sprint = f'Sprint {s+1}'\n",
    "            requisitos_alocados = []\n",
    "\n",
    "            for r in dados['todos_requisitos']:\n",
    "                if solver.Value(x[r, s]) > 0:\n",
    "                    requisitos_alocados.append(dados['requisitos'][r])\n",
    "\n",
    "            alocacao[id_sprint] = requisitos_alocados\n",
    "    else:\n",
    "        print('O problema não tem uma solução ótima.')\n",
    "\n",
    "    return alocacao"
   ],
   "metadata": {
    "collapsed": false,
    "pycharm": {
     "name": "#%%\n"
    }
   }
  },
  {
   "cell_type": "markdown",
   "source": [
    "### Função para gravar os dados da solução em um arquivo CSV.\n",
    "Os dados da solução são armazenados em arquivo para posterior análise dos resultados."
   ],
   "metadata": {
    "collapsed": false,
    "pycharm": {
     "name": "#%% md\n"
    }
   }
  },
  {
   "cell_type": "code",
   "execution_count": 3,
   "outputs": [],
   "source": [
    "def imprime_resultados_csv(arquivo, dados_entrada, resultado_alocacao):\n",
    "    \"\"\"\n",
    "    Esta função imprime a solução para o problema em um arquivo CSV.\n",
    "    Cada linha do arquivo contem a informações sobre asprint, requisito, valor e peso do requisito.\n",
    "    O formato da linha do arquivo gerado é: sprint,requisito,valor_req,peso_req\n",
    "\n",
    "    :param arquivo: o arquivo no qual as informações da solução serão armazenadas.\n",
    "    :param dados_entrada: os dados de entrada utilizados no problema.\n",
    "                            Trata-se de um objeto dicionário, com formato:\n",
    "                                {\n",
    "                                    requisitos: [req_1, ..., req_n],\n",
    "                                    valores: [val_1, ..., val_n],\n",
    "                                    pesos: [peso_1, ..., peso_n]\n",
    "                                 }\n",
    "    :param resultado_alocacao: a solução para o problema especificado, ou seja,\n",
    "                                o relacionamento entre sprints e requisitos.\n",
    "                                Trata-se de um objeto dicionário, com formato:\n",
    "                                    {\n",
    "                                        sprint1: [req1, ..., req_n],\n",
    "                                        ...,\n",
    "                                        sprint_n: [req1, ..., req_n]\n",
    "                                     }\n",
    "    :return: True se houver solução ótima e o arquivo for gerado com sucesso, False caso contrário.\n",
    "    \"\"\"\n",
    "    # os nomes das colunas que constarão no arquivo CSV\n",
    "    nomes_campos_arquivo = ['sprint', 'requisito', 'valor_req', 'peso_req']\n",
    "\n",
    "    # lista que conterá as informações a serem gravadas em arquivo (sprint, requisito, valor e peso)\n",
    "    informacoes_arquivo = []\n",
    "\n",
    "    # itera sobre cada sprint da solução\n",
    "    for sprint in resultado_alocacao.keys():\n",
    "        # recupera os requisitos que foram alocados nesta sprint\n",
    "        reqs_sprint = resultado_alocacao[sprint]\n",
    "\n",
    "        # itera sobre cada requisito alocada nesta sprint\n",
    "        for requisito in reqs_sprint:\n",
    "            idx = dados_entrada['requisitos'].index(requisito)\n",
    "            val_req = dados_entrada['valores'][idx]\n",
    "            peso_req = dados_entrada['pesos'][idx]\n",
    "\n",
    "            # detalhe de cada linha do arquivo: sprint, requisito, valor do requisito e peso do requisito\n",
    "            detalhe_linha = {\n",
    "                                nomes_campos_arquivo[0]: sprint,\n",
    "                                nomes_campos_arquivo[1]: requisito,\n",
    "                                nomes_campos_arquivo[2]: val_req,\n",
    "                                nomes_campos_arquivo[3]: peso_req\n",
    "                             }\n",
    "\n",
    "            informacoes_arquivo.append(detalhe_linha)\n",
    "\n",
    "    # realiza a escrita dos dados no arquivo especificado\n",
    "    with open(arquivo, 'w',  newline='') as csvfile_output:\n",
    "        writer = csv.DictWriter(csvfile_output, fieldnames=nomes_campos_arquivo)\n",
    "        writer.writeheader()\n",
    "        writer.writerows(informacoes_arquivo)\n",
    "\n",
    "    return True"
   ],
   "metadata": {
    "collapsed": false,
    "pycharm": {
     "name": "#%%\n"
    }
   }
  },
  {
   "cell_type": "markdown",
   "source": [
    "### Execução da otimização da alocação dos requisitos.\n",
    "\n",
    "O código a seguir executa os passos necessários para o experimento. São seguidas as seguintes etapas:\n",
    "\n",
    "1. carregamento dos dados de entradada, a partir de arquivos gerados previamente;\n",
    "2. para cada conjunto de dados (cada arquivo), é executada a otimização da alocação dos requisitos em sprints;\n",
    "3. salvamento dos resultados de cada conjunto de dados em arquivos no disco."
   ],
   "metadata": {
    "collapsed": false,
    "pycharm": {
     "name": "#%% md\n"
    }
   }
  },
  {
   "cell_type": "code",
   "execution_count": null,
   "outputs": [
    {
     "name": "stdout",
     "output_type": "stream",
     "text": [
      "4\n",
      "Tempo de execução para 10 requisitos: 0.013831615447998047 segundos\n",
      "4\n",
      "Tempo de execução para 30 requisitos: 0.03195643424987793 segundos\n",
      "4\n",
      "Tempo de execução para 50 requisitos: 2.0549612045288086 segundos\n"
     ]
    }
   ],
   "source": [
    "# recupera o caminho completo do diretório de dados de entrada\n",
    "dir_dados_entrada = str(Path(os.getcwd()).parents[0]) + '\\data\\input'\n",
    "\n",
    "# recupera o caminho completo do diretório de dados de resultado\n",
    "dir_dados_saida = str(Path(os.getcwd()).parents[0]) + '\\data\\output'\n",
    "\n",
    "# cria o diretório de saida que armazenará os resultados\n",
    "try:\n",
    "    os.mkdir(dir_dados_saida)\n",
    "except FileExistsError:\n",
    "    # se o diretório já existir, não é preciso fazer nada\n",
    "    pass\n",
    "\n",
    "# percorre cada arquivo presente no diretório de dados de entrada\n",
    "for arquivo_entrada in Path(dir_dados_entrada).iterdir():\n",
    "    # lista que armazenará os dados de cada arquivo\n",
    "    dados_a_otimizar = {}\n",
    "    requisitos = []\n",
    "    valores = []\n",
    "    pesos = []\n",
    "\n",
    "    if arquivo_entrada.is_file() and arquivo_entrada.suffix == '.csv':\n",
    "        # faz a leitura do CSV\n",
    "        with open(arquivo_entrada, newline='') as csvfile:\n",
    "            leitor = csv.DictReader(csvfile)\n",
    "            for linha in leitor:\n",
    "                requisitos.append(linha['requisito'])\n",
    "                valores.append(float(linha['valor']))\n",
    "                pesos.append(float(linha['peso']))\n",
    "\n",
    "        dados_a_otimizar['requisitos'] = requisitos\n",
    "        dados_a_otimizar['valores'] = valores\n",
    "        dados_a_otimizar['pesos'] = pesos\n",
    "\n",
    "    # define a capacidade total necessária para implementar todos os requisitos do backlog\n",
    "    capacidade_necessaria_backlog = 0\n",
    "    for peso in dados_a_otimizar['pesos']:\n",
    "        capacidade_necessaria_backlog += peso\n",
    "\n",
    "    # define o arquivo de saída para o resultado\n",
    "    arquivo_resultado = dir_dados_saida + '\\\\resultado-CPSAT-req-' + str(len(dados_a_otimizar['requisitos'])) + '.csv'\n",
    "\n",
    "    tempo_inicial = time.time()\n",
    "\n",
    "    # chama função que realiza a otimização\n",
    "    alocacao_sprints = otimiza_sprints(dados_a_otimizar, 480, capacidade_necessaria_backlog)\n",
    "\n",
    "    tempo_final = time.time()\n",
    "\n",
    "    # escreve os resultados em disco\n",
    "    imprime_resultados_csv(arquivo_resultado, dados_a_otimizar, alocacao_sprints)\n",
    "\n",
    "    print(f'Tempo de execução para {len(requisitos)} requisitos: {(tempo_final - tempo_inicial)} segundos')"
   ],
   "metadata": {
    "collapsed": false,
    "pycharm": {
     "name": "#%%\n",
     "is_executing": true
    }
   }
  },
  {
   "cell_type": "code",
   "execution_count": null,
   "outputs": [],
   "source": [],
   "metadata": {
    "collapsed": false,
    "pycharm": {
     "name": "#%%\n"
    }
   }
  }
 ],
 "metadata": {
  "kernelspec": {
   "display_name": "Python 3",
   "language": "python",
   "name": "python3"
  },
  "language_info": {
   "codemirror_mode": {
    "name": "ipython",
    "version": 2
   },
   "file_extension": ".py",
   "mimetype": "text/x-python",
   "name": "python",
   "nbconvert_exporter": "python",
   "pygments_lexer": "ipython2",
   "version": "2.7.6"
  }
 },
 "nbformat": 4,
 "nbformat_minor": 0
}