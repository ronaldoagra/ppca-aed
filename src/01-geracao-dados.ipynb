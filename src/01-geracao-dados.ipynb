{
 "cells": [
  {
   "cell_type": "markdown",
   "source": [
    "## Definição dos dados para os experimentos\n",
    "\n",
    "Este notebook define os dados que serão utilizados nos experimentos, para tal são executados os seguintes passos:\n",
    "\n",
    "1. definição dos parâmetros a serem utilizados nos experimentos, com o objetivo de se garantir a reprodutibilidade;\n",
    "2. gera os dados de forma pseudo-randômica para o experimento. Neste passo são gerados os requisitos e seus respectivos valores e pesos;\n",
    "3. grava os dados em arquivos CSV, a fim de facilitar sua utilização nos experimentos.\n",
    "\n",
    "Para os experimentos deste projeto, levou-se em consideração diversos conjuntos de requisitos, variando a quantidade destes de 10 a 100, com o objetivo de realizarmos comparações entre as execuções dos experimentos.\n",
    "\n",
    "### Importação das bibliotecas necessárias neste notebook."
   ],
   "metadata": {
    "collapsed": false,
    "pycharm": {
     "name": "#%% md\n"
    }
   }
  },
  {
   "cell_type": "code",
   "execution_count": 1,
   "outputs": [],
   "source": [
    "import csv\n",
    "import random\n",
    "import os\n",
    "from pathlib import Path"
   ],
   "metadata": {
    "collapsed": false,
    "pycharm": {
     "name": "#%%\n"
    }
   }
  },
  {
   "cell_type": "markdown",
   "source": [
    "### Define os parâmetros que serão utilizados no experimento."
   ],
   "metadata": {
    "collapsed": false,
    "pycharm": {
     "name": "#%% md\n"
    }
   }
  },
  {
   "cell_type": "code",
   "execution_count": 2,
   "id": "f13aefce",
   "metadata": {
    "pycharm": {
     "name": "#%%\n"
    }
   },
   "outputs": [],
   "source": [
    "# semente para garantir a reprodutibilidade do experimento\n",
    "semente = 20221\n",
    "\n",
    "# valores definidos pelo negócio\n",
    "min_valor_req = 1       # valor mínimo para um requisito\n",
    "max_valor_req = 18      # valor máximo para um requisito\n",
    "min_peso_req = 8        # peso mínimo para um requisito\n",
    "max_peso_req = 40       # peso máximo para um requisito\n",
    "\n",
    "# a capacidade da mochila é dada pela qtd de homens hora disponível multiplicada pelo qtd de pontos que é produzido por hora\n",
    "# para este experimento, levou-se em consideração:\n",
    "#        - sprint de 2 semanas (10 dias úteis)\n",
    "#        - equipe de 3 desenvolvedores (com 6h úteis por dia para desenvolvimento)\n",
    "#        - produtividade de 10 pontos por HH\n",
    "capacidade_mochila = 180\n",
    "\n",
    "# quantidades de requisitos que se deseja simular no experimento\n",
    "qtds_requisitos = [10, 30, 50, 70, 100]"
   ]
  },
  {
   "cell_type": "markdown",
   "source": [
    "### Gera, de forma pseudo-randômica, os valores e pesos dos requisitos, com o objetivo de se utilizar no experimento."
   ],
   "metadata": {
    "collapsed": false,
    "pycharm": {
     "name": "#%% md\n"
    }
   }
  },
  {
   "cell_type": "code",
   "execution_count": 3,
   "outputs": [],
   "source": [
    "# inicializa o objeto random com o valor de semente definido, a fim de garantir a reprodutibilidade dos valores\n",
    "random.seed(semente)\n",
    "\n",
    "# Define o diretório onde os arquivos do experimento serão armazenados.\n",
    "# dir_dados = DIR_PAI_NOTEBOOK + \\data\n",
    "dir_dados = str(Path(os.getcwd()).parents[0]) + '\\data'\n",
    "\n",
    "# os nomes das colunas que constarão no arquivo CSV\n",
    "nomes_campos = ['requisito', 'valor', 'peso']\n",
    "\n",
    "for qtd in qtds_requisitos:\n",
    "    nome_arquivo = dir_dados + '\\\\valores-pesos-req-' + str(qtd) + '.csv'\n",
    "\n",
    "    # lista que conterá as informações (nome, valor e peso) dos requisitos\n",
    "    requisitos = []\n",
    "\n",
    "    for i in range(qtd):\n",
    "        nome_req = 'Requisito_{}'.format(i+1)                   # define o nome do requisito\n",
    "\n",
    "        valor = random.uniform(min_valor_req, max_valor_req)    # define o valor do requisito\n",
    "        peso = random.uniform(min_peso_req, max_peso_req)       # define o peso do requisito\n",
    "\n",
    "        # define o detalhe de cada requisito: nome, valor e peso\n",
    "        detalhe_req = {}\n",
    "        detalhe_req['requisito'] = nome_req\n",
    "        detalhe_req['valor'] = valor\n",
    "        detalhe_req['peso'] = peso\n",
    "\n",
    "        requisitos.append(detalhe_req)\n",
    "\n",
    "    # realiza a escrita dos dados no arquivo especificado\n",
    "    with open(nome_arquivo, 'w',  newline='') as csvfile:\n",
    "        writer = csv.DictWriter(csvfile, fieldnames=nomes_campos)\n",
    "        writer.writeheader()\n",
    "        writer.writerows(requisitos)"
   ],
   "metadata": {
    "collapsed": false,
    "pycharm": {
     "name": "#%%\n"
    }
   }
  },
  {
   "cell_type": "code",
   "execution_count": null,
   "outputs": [],
   "source": [],
   "metadata": {
    "collapsed": false,
    "pycharm": {
     "name": "#%%\n"
    }
   }
  }
 ],
 "metadata": {
  "kernelspec": {
   "display_name": "Python 3 (ipykernel)",
   "language": "python",
   "name": "python3"
  },
  "language_info": {
   "codemirror_mode": {
    "name": "ipython",
    "version": 3
   },
   "file_extension": ".py",
   "mimetype": "text/x-python",
   "name": "python",
   "nbconvert_exporter": "python",
   "pygments_lexer": "ipython3",
   "version": "3.10.6"
  }
 },
 "nbformat": 4,
 "nbformat_minor": 5
}